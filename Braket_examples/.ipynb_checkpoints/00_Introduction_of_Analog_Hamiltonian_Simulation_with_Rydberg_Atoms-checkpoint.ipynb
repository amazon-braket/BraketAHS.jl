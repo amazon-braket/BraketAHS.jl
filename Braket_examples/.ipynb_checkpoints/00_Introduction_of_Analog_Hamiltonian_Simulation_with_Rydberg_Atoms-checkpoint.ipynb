{
 "cells": [
  {
   "cell_type": "markdown",
   "id": "47503455",
   "metadata": {},
   "source": [
    "# Introduction of analog Hamiltonian simulation\n",
    "\n",
    "Analog Hamiltonian Simulation (AHS) is a quantum computing paradigm different from gate-based computing. AHS uses a well-controlled quantum system and tunes its parameters to mimic the dynamics of another quantum system, the one we aim to study. \n",
    "\n",
    "In the gate-based quantum computation, the program is a quantum circuit consisting of a series of quantum gates, each of which acts only a small subset of qubits. In contrast, an AHS program is a sequence of time-dependent Hamiltonians that govern the quantum dynamics of all qubits. The comparison can be seen in the following figure, where the left side shows a typical quantum circuit, and the right side illustrates that, during AHS, the effect of the evolution under a Hamiltonian can be understood as a unitary acting simultaneously on all qubits.\n",
    "\n",
    "Digital quantum circuit             |   Analog Hamiltonian Simulation\n",
    ":-------------------------:|:-------------------------:\n",
    "<img src=\"digital.png\" alt=\"digital quantum computing\" width=\"400\"/>  |  <img src=\"analog.png\" alt=\"analog hamiltonian simulation\" width=\"600\"/>\n",
    "\n",
    "(\"Digital quantum circuit\" and \"Analog Hamiltonian Simulation\" figures by [QuEra Computing Inc.](https://www.quera.com/) are licensed under [CC BY 4.0](https://creativecommons.org/licenses/by/4.0/))\n",
    "\n",
    "In this notebook, we focus on running Analog Hamiltonian Simulations with Rydberg atoms. Also, we will use `matplotlib` package and `ahs_utils.py` module in the current working directory for visualization purposes."
   ]
  },
  {
   "cell_type": "markdown",
   "id": "b327221a-aee8-4621-b657-ea85c750a09f",
   "metadata": {},
   "source": [
    "# AHS with Rydberg atoms\n",
    "\n",
    "An Analog Hamiltonian Simulation **program** is fully specified by its quantum register and (time-dependent) Hamiltonian."
   ]
  },
  {
   "cell_type": "code",
   "execution_count": 1,
   "id": "8a93745e-02b0-4cd8-9926-c1d4aae14aa2",
   "metadata": {},
   "outputs": [],
   "source": [
    "from braket.ahs.hamiltonian import Hamiltonian\n",
    "from braket.ahs.atom_arrangement import AtomArrangement\n",
    "from braket.ahs.analog_hamiltonian_simulation import AnalogHamiltonianSimulation\n",
    "\n",
    "register = AtomArrangement()\n",
    "H = Hamiltonian()\n",
    "\n",
    "ahs_program = AnalogHamiltonianSimulation(\n",
    "    hamiltonian=H,\n",
    "    register=register\n",
    ")"
   ]
  },
  {
   "cell_type": "markdown",
   "id": "2871eb36-e6ef-4519-84f6-a40d492c4987",
   "metadata": {},
   "source": [
    "In order to run AHS program with Rydberg atoms, we will first have to understand what type of Hamiltonian can Rydberg atoms simulate."
   ]
  },
  {
   "cell_type": "markdown",
   "id": "65319098-d1b9-4bb5-8777-878938c51018",
   "metadata": {},
   "source": [
    "## Introduction to Rydberg Hamiltonian\n",
    "\n",
    "Depending on the atomic states we use for the Rydberg system, its Hamiltonian could take different forms. Here we shall focus on the following type of Hamiltonian\n",
    "\n",
    "\\begin{align}\n",
    "H(t) = \\sum_{k=1}^N H_{\\text{drive}, k}(t) + \\sum_{k=1}^N H_{\\text{shift}, k}(t) + \\sum_{j=1}^{N-1}\\sum_{k = j+1}^N H_{\\text{vdW}, j, k},\n",
    "\\end{align}\n",
    "\n",
    "where $j, k=1,2,\\ldots N$ index the atoms (qubits) in the program register. We describe the nature and effect of each term in the Hamiltonian in the following sections, using a triangular array as an example."
   ]
  },
  {
   "cell_type": "markdown",
   "id": "bdc99a17-a873-4b80-a41b-a8fb3df46ba9",
   "metadata": {},
   "source": [
    "### Register\n",
    "\n",
    "First, we need to define a quantum **register**, 2-dimensional layout of neutral atoms, on which this Hamiltonian will act."
   ]
  },
  {
   "cell_type": "code",
   "execution_count": 2,
   "id": "cf3738c1-38a4-4b54-8537-33f16d3acba2",
   "metadata": {},
   "outputs": [],
   "source": [
    "import numpy as np\n",
    "\n",
    "# e.g. three atoms in an equilateral triangle, with pairwise\n",
    "# separation equal to 5.5 micrometers\n",
    "a = 5.5e-6  # meters\n",
    "\n",
    "register.add([0, 0])\n",
    "register.add([a, 0.0])\n",
    "register.add([0.5 * a, np.sqrt(3)/2 * a]);"
   ]
  },
  {
   "cell_type": "markdown",
   "id": "b549d2ca",
   "metadata": {},
   "source": [
    "The atom arrangement can be visualized in the following way"
   ]
  },
  {
   "cell_type": "code",
   "execution_count": 3,
   "id": "70fcb4f0",
   "metadata": {},
   "outputs": [
    {
     "data": {
      "image/png": "[encoded data removed]",
      "text/plain": [
       "<Figure size 700x700 with 1 Axes>"
      ]
     },
     "metadata": {},
     "output_type": "display_data"
    }
   ],
   "source": [
    "from ahs_utils import show_register\n",
    "\n",
    "show_register(register)"
   ]
  },
  {
   "cell_type": "markdown",
   "id": "8096aa7e-4925-4317-ba85-d69d97b9150f",
   "metadata": {},
   "source": [
    "### Driving field\n",
    "\n",
    "The first term of the Hamiltonian represents the effect of a **driving field** that addresses the atoms simultaneously and uniformly\n",
    "\n",
    "\\begin{align}\n",
    "H_{\\text{drive}, k}(t) = \\frac{\\Omega(t)}{2}\\left(e^{i\\phi(t)}|g_k\\rangle\\langle r_k| + e^{-i\\phi(t)}|r_k\\rangle\\langle g_k|\\right) - \\Delta_\\text{global}(t)n_k,\n",
    "\\end{align}\n",
    "\n",
    "where $\\Omega$, $\\phi$, and $\\Delta_\\text{global}$ to denote the **amplitude** (Rabi frequency), laser **phase**, and the **detuning** of the driving laser field. Here $n_k = |r_k\\rangle\\langle r_k|$ is the number operator of atom $k$; the kets $|g_k\\rangle$ and $|r_k\\rangle$ denote the ground and Rydberg states, respectively. The $\\Omega$ part of the driving term is identical to a uniform (time-dependent) _transverse_ magnetic field, whereas the $\\Delta_\\text{global}$ part implements the effect of a _longitudinal_ magnetic field, in a spin-model representation.\n",
    "\n",
    "For the purpose of this example, we choose a constant Rabi frequency equal to $\\Omega_\\text{max}=2.5\\times10^6$ rad/s, with the phase and global detuning set to zero. The duration of the program is set to $\\frac{\\pi}{\\sqrt{2}\\Omega_\\text{max}}$, which will be explained in the next section. "
   ]
  },
  {
   "cell_type": "code",
   "execution_count": 4,
   "id": "784fd2a4-7bd7-4f67-90c1-4b3664515cfb",
   "metadata": {},
   "outputs": [],
   "source": [
    "from braket.timings.time_series import TimeSeries\n",
    "from braket.ahs.driving_field import DrivingField\n",
    "\n",
    "# e.g. trapzoid amplitude time series\n",
    "Omega_max = 2.5e6  # rad / seconds\n",
    "\n",
    "# e.g. the duration of the program\n",
    "# t_max = np.pi/(np.sqrt(2)*Omega_max) # seconds\n",
    "t_max = 4e-6\n",
    "\n",
    "# e.g. constant Rabi frequency\n",
    "Omega = TimeSeries()\n",
    "Omega.put(0.0, Omega_max)\n",
    "Omega.put(t_max, Omega_max)\n",
    "\n",
    "# e.g. all-zero phase and detuning\n",
    "phi = TimeSeries().put(0.0, 0.0).put(t_max, 0.0)  # (time [s], value [rad])\n",
    "Delta_global = TimeSeries().put(0.0, 0.0).put(t_max, 0.0)  # (time [s], value [rad/s])\n",
    "\n",
    "drive = DrivingField(\n",
    "    amplitude=Omega,\n",
    "    phase=phi,\n",
    "    detuning=Delta_global\n",
    ")\n",
    "\n",
    "H += drive"
   ]
  },
  {
   "cell_type": "markdown",
   "id": "613d27bb-c88e-4325-8263-c6e935eab0cf",
   "metadata": {},
   "source": [
    "### Shifting field\n",
    "\n",
    "The second term in $H(t)$ represents the effect of a **shifting field** that detunes atoms according to a non-uniform pattern.\n",
    "\n",
    "\\begin{align}\n",
    "H_{\\text{shift}, k}(t) = -\\Delta_\\text{local}(t)h_k \\,n_k,\n",
    "\\end{align}\n",
    "\n",
    "where $\\Delta_\\text{local}(t)$ is the time-dependent **magnitude** of the frequency shift, and $h_k$ is the atom-dependent **pattern**, which is a dimensionless number between 0 and 1. This shifting term is identical to a non-uniform (and time-dependent) _longitudinal_ magnetic field in a spin-model representation.\n",
    "\n",
    "For the purpose of this example, we choose a shifting field that strongly detunes the top atom in the triangular lattice."
   ]
  },
  {
   "cell_type": "code",
   "execution_count": 5,
   "id": "4783bb48-31f4-4213-873b-879ad641b092",
   "metadata": {},
   "outputs": [],
   "source": [
    "from braket.ahs.field import Field\n",
    "from braket.ahs.pattern import Pattern\n",
    "from braket.ahs.shifting_field import ShiftingField\n",
    "\n",
    "# e.g. constant strong shifting field\n",
    "Delta_local = TimeSeries()\n",
    "Delta_local.put(0.0, -Omega_max*20)  # (time [s], value [rad/s])\n",
    "Delta_local.put(t_max, -Omega_max*20)\n",
    "\n",
    "\n",
    "# e.g. the shifting field only acts on the third atom, \n",
    "# which is the top atom in the triangular array.\n",
    "h = Pattern([0, 0, 0.5])\n",
    "\n",
    "shift = ShiftingField(\n",
    "    magnitude=Field(\n",
    "        time_series=Delta_local,\n",
    "        pattern=h\n",
    "    )\n",
    ")\n",
    "\n",
    "H += shift"
   ]
  },
  {
   "cell_type": "markdown",
   "id": "3c2f1d9a",
   "metadata": {},
   "source": [
    "The driving field and the shifting field can be inspected with the following utility function"
   ]
  },
  {
   "cell_type": "code",
   "execution_count": 6,
   "id": "4cfd6e37",
   "metadata": {},
   "outputs": [
    {
     "data": {
      "image/png": "[encoded data removed]",
      "text/plain": [
       "<Figure size 700x700 with 4 Axes>"
      ]
     },
     "metadata": {},
     "output_type": "display_data"
    }
   ],
   "source": [
    "from ahs_utils import show_drive_and_shift\n",
    "\n",
    "show_drive_and_shift(drive, shift)"
   ]
  },
  {
   "cell_type": "markdown",
   "id": "e0cff122-476f-45fd-bafe-c86b63f22deb",
   "metadata": {},
   "source": [
    "### Rydberg-Rydberg interaction\n",
    "\n",
    "Finally, the third term in $H(t)$ is the van der Waals interaction between all pairs of Rydberg atoms,\n",
    "\n",
    "\\begin{align}\n",
    "H_{\\text{vdW}, j, k} =V_{j,k} \\,n_j\\, n_k = \\frac{C_6}{R_{j,k}^6} \\,n_j\\, n_k,\n",
    "\\end{align}\n",
    "\n",
    "where $C_6$ is a fixed interaction coefficient, and $R_{j,k}=|{\\bf x}_j-{\\bf x}_k|$ is the distance between atoms $j$ and $k$. This interaction shifts the frequency of the Rydberg level of all atoms that are close to an atom that is already in its Rydberg state. While the overall coefficient, $C_6$ is a fixed value (determined by the nature of the ground and Rydberg states), the strength of this interaction can be tuned by adjusting the pairwise distance $R_{j,k}$ between atoms."
   ]
  },
  {
   "cell_type": "code",
   "execution_count": 7,
   "id": "12529050-720f-450a-84e8-d266d1c9ac48",
   "metadata": {},
   "outputs": [],
   "source": [
    "# Note:\n",
    "# The van der Waals interaction term is implicitly assumed in the current version of the AHS module,\n",
    "# its strength (C6 / R_{j,k}^6) is calculated (if using the local simulator) from the atomic positions \n",
    "# of the register, hence there is no need to specify it explicitly."
   ]
  },
  {
   "cell_type": "markdown",
   "id": "9de2469a-7326-4cce-9382-45668759ecc6",
   "metadata": {},
   "source": [
    "**Introduction to Rydberg blockade**\n",
    "\n",
    "For the interaction coefficient, the value of $C_6$ depends on the atom species, and the states used in the simulation. Here we shall take the value \n",
    "\n",
    "\\begin{align}\n",
    "C_6 = 5.42\\times 10^{-24} ~\\text{rad}~ \\text{m}^6/\\text{s}\n",
    "\\end{align}\n",
    "\n",
    "for $|r\\rangle = |70S_{1/2}\\rangle$ of the $^{87}$Rb atoms. For the typical scenario, where atoms are separated by $4\\times10^{-6}$ meters, the van der Waals interaction strength is $V_{jk}=1.32\\times10^9 \\text{rad}/\\text{s}$, which is much larger than the typical scale of the Rabi frequency (around $6\\times10^6 \\text{rad}/\\text{s}$). As a result, when the separation of two atoms is within certain distance, it is nearly impossible to drive them to the Rydberg state simultaneously. \n",
    "\n",
    "This is called the Rydberg blockade phenomena, illustrated in the figure below (Source: [Browaeys and Lahaye](https://arxiv.org/abs/2002.07413)), where $R$ is the separation between the atoms, and $E$ indicates the energies or frequencies of the different two-atom states as $R$ changes. The vertical arrows indicate the effect of a uniform driving field (with Rabi frequency $\\Omega$) that successfully transitions the atoms from the $|gg\\rangle$ ground state to the 1-atom excited state $|\\psi_+\\rangle = (|gr\\rangle + |rg\\rangle)/\\sqrt{2}$ (independent of $R$), but fails to get from there to the doubly-excited state $|rr\\rangle$, if $R$ is smaller than $R_b = (C_6 / \\Omega)^{1/6}$, the blockade radius.\n",
    "\n",
    "<u>Note</u>: In the presence of both global Rabi frequency and detuning, it is more accurate to estimate the blockade radius with $R_b = (C_6 / \\sqrt{\\Omega^2+\\Delta^2})^{1/6}$, see [Pichler, et. al.](https://arxiv.org/abs/1808.10816).\n",
    "\n",
    "<img src=\"Blockade.png\" alt=\"drawing\" style=\"width:250px;\"/>"
   ]
  },
  {
   "cell_type": "markdown",
   "id": "8eae4fdd-9b85-42fd-b7ae-aad65f6fb30b",
   "metadata": {
    "tags": []
   },
   "source": [
    "### Full program\n",
    "\n",
    "The fully-specified program can be inspected with the following command."
   ]
  },
  {
   "cell_type": "code",
   "execution_count": 8,
   "id": "98489138-a878-4514-8d3b-b36f19337eda",
   "metadata": {},
   "outputs": [
    {
     "data": {
      "text/plain": [
       "{'braketSchemaHeader': {'name': 'braket.ir.ahs.program', 'version': '1'},\n",
       " 'setup': {'ahs_register': {'sites': [[Decimal('0'), Decimal('0')],\n",
       "    [Decimal('0.0000055'), Decimal('0.0')],\n",
       "    [Decimal('0.00000275'), Decimal('0.000004763139720814412')]],\n",
       "   'filling': [1, 1, 1]}},\n",
       " 'hamiltonian': {'drivingFields': [{'amplitude': {'time_series': {'values': [Decimal('2500000.0'),\n",
       "       Decimal('2500000.0')],\n",
       "      'times': [Decimal('0.0'), Decimal('0.000004')]},\n",
       "     'pattern': 'uniform'},\n",
       "    'phase': {'time_series': {'values': [Decimal('0.0'), Decimal('0.0')],\n",
       "      'times': [Decimal('0.0'), Decimal('0.000004')]},\n",
       "     'pattern': 'uniform'},\n",
       "    'detuning': {'time_series': {'values': [Decimal('0.0'), Decimal('0.0')],\n",
       "      'times': [Decimal('0.0'), Decimal('0.000004')]},\n",
       "     'pattern': 'uniform'}}],\n",
       "  'shiftingFields': [{'magnitude': {'time_series': {'values': [Decimal('-50000000.0'),\n",
       "       Decimal('-50000000.0')],\n",
       "      'times': [Decimal('0.0'), Decimal('0.000004')]},\n",
       "     'pattern': [Decimal('0'), Decimal('0'), Decimal('0.5')]}}]}}"
      ]
     },
     "execution_count": 8,
     "metadata": {},
     "output_type": "execute_result"
    }
   ],
   "source": [
    "ahs_program.to_ir().dict()"
   ]
  },
  {
   "cell_type": "markdown",
   "id": "bf450c2f",
   "metadata": {},
   "source": [
    "# Running AHS program with local simulator"
   ]
  },
  {
   "cell_type": "markdown",
   "id": "ecfcc7bc",
   "metadata": {},
   "source": [
    "The AHS program defined above realizes the maximally entangled state for a pair of atoms, out of the three atoms in the triangular array. To see that, recall that we have subjected the top atom in the triangular array (labeled as atom 2) with a strong detuning $H_{\\text{shift}, 2}(t) = -\\frac{1}{2}\\Delta_\\text{local}n_2$ where $\\Delta_\\text{local}=-10\\Omega_\\text{max}=-2.5\\times10^7$ rad/s. Since $\\Delta_\\text{local}$ is much bigger than any other energy scales in the system, including the Rabi frequency, it is energy unfavorable for atom 2 to be excited to the Rydberg state (note the minus sign in $H_{\\text{shift}, 2}(t)$). Hence atom 2 remains in the ground state throughout the evolution, and can be neglected in the following analysis.\n",
    "\n",
    "Since the other two atoms are subjected with only the driving field with zero detuning and phase, the constant Hamiltonian reads\n",
    "\\begin{align}\n",
    "H = \\frac{\\Omega}{2}\\sum_{k=0}^1\\left(|g_k\\rangle\\langle r_k| + |r_k\\rangle\\langle g_k|\\right) + V_{0,1}{n}_0{n}_1,\n",
    "\\end{align}\n",
    "where $k=0,1$ are the indices for the two lower atoms in the triangular array. More concretely, in the basis of $\\left\\{|gg\\rangle, |gr\\rangle, |rg\\rangle, |rr\\rangle\\right\\}$, the Hamiltonian takes the following matrix representation\n",
    "\\begin{align}\n",
    "H = \n",
    "\\begin{bmatrix}\n",
    "0 & \\frac{\\Omega}{2} & \\frac{\\Omega}{2} & 0 \\\\\n",
    "\\frac{\\Omega}{2} & 0 & 0 & \\frac{\\Omega}{2}\\\\\n",
    "\\frac{\\Omega}{2} & 0 & 0 & \\frac{\\Omega}{2}\\\\\n",
    "0 & \\frac{\\Omega}{2} & \\frac{\\Omega}{2} & V_{0,1}\n",
    "\\end{bmatrix}.\n",
    "\\end{align}\n",
    "Since the two atoms are separated by $d_{0,1} = 5.5\\times10^{-6}$ meters, the interaction strength between them reads\n",
    "\\begin{align}\n",
    "V_{0,1}=\\frac{C_6}{(d_{0,1})^6} = \\frac{5.42\\times10^{-24}}{(5.5\\times10^{-6})^6}\\approx1.96\\times10^8 \\text{ rad/s},\n",
    "\\end{align}\n",
    "which is much greater than the Rabi frequency. Hence the two atoms are in the Rydberg blockade regime, and the state $|rr\\rangle$ is very unlikely to be excited (assuming the initial state is $|gg\\rangle$). Hence we can neglect the $|rr\\rangle$ state, and the Hamiltonian is simplified to be\n",
    "\\begin{align}\n",
    "H = \n",
    "\\begin{bmatrix}\n",
    "0 & \\frac{\\Omega}{2} & \\frac{\\Omega}{2} \\\\\n",
    "\\frac{\\Omega}{2} & 0 & 0 \\\\\n",
    "\\frac{\\Omega}{2} & 0 & 0 \n",
    "\\end{bmatrix},\n",
    "\\end{align}\n",
    "and the final state of the evolution can be solved to be\n",
    "\\begin{align}\n",
    "|\\psi\\rangle = e^{-iHt}|gg\\rangle = \n",
    "\\begin{bmatrix}\n",
    "\\cos\\frac{\\Omega t}{\\sqrt{2}}\\\\\n",
    "\\frac{i}{\\sqrt{2}}\\sin\\frac{\\Omega t}{\\sqrt{2}}\\\\\n",
    "\\frac{i}{\\sqrt{2}}\\sin\\frac{\\Omega t}{\\sqrt{2}}\n",
    "\\end{bmatrix}.\n",
    "\\end{align}\n",
    "Hence if the system evolves for a duration $T=\\frac{\\pi}{\\sqrt{2}\\Omega}$, which is indeed the duration of the AHS program defined in the previous section, we will arrive at a maximally entangled state between the two atoms\n",
    "\\begin{align}\n",
    "|\\psi\\rangle = \\frac{1}{\\sqrt{2}}(|gr\\rangle+|rg\\rangle).\n",
    "\\end{align}\n",
    "\n",
    "Before submitting the AHS program to a QPU, it is useful to run the program on the local simulator to check if the simulation result meets one's expectation. "
   ]
  },
  {
   "cell_type": "code",
   "execution_count": 9,
   "id": "9967419e",
   "metadata": {},
   "outputs": [],
   "source": [
    "from braket.devices import LocalSimulator\n",
    "device = LocalSimulator(\"braket_ahs\")"
   ]
  },
  {
   "cell_type": "markdown",
   "id": "da67bcf1",
   "metadata": {},
   "source": [
    "We can run the AHS program just like running a quantum circuit on other Braket devices. Below we have explicitly specified the values of `steps` and `shots`, which are the number of time steps in the simulation and the number of sampling for the final stats, respectively. One could increase the accuracy of the result by increasing the values of these arguments, at the expense of longer runtime. "
   ]
  },
  {
   "cell_type": "code",
   "execution_count": 10,
   "id": "6a510997",
   "metadata": {},
   "outputs": [],
   "source": [
    "result = device.run(ahs_program, shots=1000, steps=100).result()"
   ]
  },
  {
   "cell_type": "markdown",
   "id": "85747c3e",
   "metadata": {},
   "source": [
    "To confirm that we indeed arrive at a maximally entangled state, we first collect the measurement results, followed by counting the number of occurrence of $|gr\\rangle$ and $|rg\\rangle$ respectively."
   ]
  },
  {
   "cell_type": "code",
   "execution_count": 11,
   "id": "7a906e64",
   "metadata": {},
   "outputs": [
    {
     "data": {
      "text/plain": [
       "{'ggg': 483, 'ggr': 1, 'grg': 261, 'rgg': 255}"
      ]
     },
     "execution_count": 11,
     "metadata": {},
     "output_type": "execute_result"
    }
   ],
   "source": [
    "def get_counters_from_result(result):\n",
    "    post_sequences = [list(measurement.post_sequence) for measurement in result.measurements]\n",
    "    post_sequences = [\"\".join(['r' if site==0 else 'g' for site in post_sequence]) for post_sequence in post_sequences]\n",
    "\n",
    "    counters = {}\n",
    "    for post_sequence in post_sequences:\n",
    "        if post_sequence in counters:\n",
    "            counters[post_sequence] += 1\n",
    "        else:\n",
    "            counters[post_sequence] = 1\n",
    "    return counters\n",
    "\n",
    "get_counters_from_result(result)"
   ]
  },
  {
   "cell_type": "markdown",
   "id": "7143ac6b",
   "metadata": {},
   "source": [
    "The simulation outcome indeed confirms our expectations\n",
    "1. It is very unlikely to excite the 3rd atom to the Rydberg state because of the strong local detuning. \n",
    "2. Due to the Rydberg blockade, it is very unlikely to excite the 1st and 2nd atoms to the Rydberg states simultaneously.\n",
    "3. By appropriately tuning the Rabi frequency and the duration of the AHS program, we can arrive at a maximally entangled state for the 1st and 2nd atoms. Since our simulation is noiseless, the discrepancy from ideal 50%-50% split is attributed to statistical sampling (aka \"shot noise\").\n",
    "\n",
    "In summary, in this notebook, we have introduced Analog Hamiltonian Simulation (AHS), a different quantum computing paradigm, and showed how to run an AHS program with Rydberg atoms using Braket's local AHS simulator."
   ]
  },
  {
   "cell_type": "markdown",
   "id": "9e5ecf46",
   "metadata": {},
   "source": [
    "# Using TN-AHS simulator\n",
    "\n",
    "Here we show how to run the above AHS program, using the [tensor-network AHS simulator](https://github.com/amazon-braket/tensor-network-ahs/tree/main). The first step is to save the AHS program into a JSON file, which we will name it as `ahs_program.json`."
   ]
  },
  {
   "cell_type": "code",
   "execution_count": 12,
   "id": "9884a7d3",
   "metadata": {},
   "outputs": [],
   "source": [
    "import json\n",
    "ahs_ir = ahs_program.to_ir()\n",
    "json_data = json.loads(ahs_ir.json())\n",
    "json_string = json.dumps(json_data, indent=4) \n",
    "filename = \"ahs_program.json\"\n",
    "with open(filename, \"w\") as json_file:\n",
    "    json_file.write(json_string)"
   ]
  },
  {
   "cell_type": "markdown",
   "id": "609d3705",
   "metadata": {},
   "source": [
    "Next, we can run the program with the tensor-network AHS simulator as a Python process. The result from the tensor-network AHS simulator will be saved in a folder named `julia_data_plots`. "
   ]
  },
  {
   "cell_type": "code",
   "execution_count": 18,
   "id": "c497df30",
   "metadata": {},
   "outputs": [
    {
     "name": "stderr",
     "output_type": "stream",
     "text": [
      "[ Info: Parsed command line arguments:\n",
      "[ Info: \tshots: 1000\n",
      "[ Info: \ttau: 1.0e-8\n",
      "[ Info: \tcutoff: 1.0e-7\n",
      "[ Info: \tmax-bond-dim: 16\n",
      "[ Info: \tgenerate-plots: false\n",
      "[ Info: \tinteraction-radius: 7.0e-6\n",
      "[ Info: \tC6: 5.42e-24\n",
      "[ Info: \tn-tau-steps: 400\n",
      "[ Info: \tcompute-truncation-error: false\n",
      "[ Info: \texperiment-path: julia_data_plots\n",
      "[ Info: \tprogram-path: ahs_program.json\n",
      "[ Info: \tdim: 2\n",
      "[ Info: JSON file to read: ahs_program.json\n",
      "[ Info: Directory 'julia_data_plots' created.\n",
      "[ Info: Preparing initial ψ MPS\n",
      "[ Info: Generating Trotterized circuit\n",
      "[ Info: Starting MPS evolution\n",
      "[ Info: Applying Trotter gates\n",
      "[ Info: Step: 1, current MPS bond dimension is 1\n",
      "[ Info: Step: 2, current MPS bond dimension is 2\n",
      "[ Info: Step: 3, current MPS bond dimension is 2\n",
      "[ Info: Step: 4, current MPS bond dimension is 2\n",
      "[ Info: Step: 5, current MPS bond dimension is 2\n",
      "[ Info: Step: 6, current MPS bond dimension is 2\n",
      "[ Info: Step: 7, current MPS bond dimension is 2\n",
      "[ Info: Step: 8, current MPS bond dimension is 2\n",
      "[ Info: Step: 9, current MPS bond dimension is 2\n",
      "[ Info: Step: 10, current MPS bond dimension is 2\n",
      "[ Info: Step: 11, current MPS bond dimension is 2\n",
      "[ Info: Step: 12, current MPS bond dimension is 2\n",
      "[ Info: Step: 13, current MPS bond dimension is 2\n",
      "[ Info: Step: 14, current MPS bond dimension is 2\n",
      "[ Info: Step: 15, current MPS bond dimension is 2\n",
      "[ Info: Step: 16, current MPS bond dimension is 2\n",
      "[ Info: Step: 17, current MPS bond dimension is 2\n",
      "[ Info: Step: 18, current MPS bond dimension is 2\n",
      "[ Info: Step: 19, current MPS bond dimension is 2\n",
      "[ Info: Step: 20, current MPS bond dimension is 2\n",
      "[ Info: Step: 21, current MPS bond dimension is 2\n",
      "[ Info: Step: 22, current MPS bond dimension is 2\n",
      "[ Info: Step: 23, current MPS bond dimension is 2\n",
      "[ Info: Step: 24, current MPS bond dimension is 2\n",
      "[ Info: Step: 25, current MPS bond dimension is 2\n",
      "[ Info: Step: 26, current MPS bond dimension is 2\n",
      "[ Info: Step: 27, current MPS bond dimension is 2\n",
      "[ Info: Step: 28, current MPS bond dimension is 2\n",
      "[ Info: Step: 29, current MPS bond dimension is 2\n",
      "[ Info: Step: 30, current MPS bond dimension is 2\n",
      "[ Info: Step: 31, current MPS bond dimension is 2\n",
      "[ Info: Step: 32, current MPS bond dimension is 2\n",
      "[ Info: Step: 33, current MPS bond dimension is 2\n",
      "[ Info: Step: 34, current MPS bond dimension is 2\n",
      "[ Info: Step: 35, current MPS bond dimension is 2\n",
      "[ Info: Step: 36, current MPS bond dimension is 2\n",
      "[ Info: Step: 37, current MPS bond dimension is 2\n",
      "[ Info: Step: 38, current MPS bond dimension is 2\n",
      "[ Info: Step: 39, current MPS bond dimension is 2\n",
      "[ Info: Step: 40, current MPS bond dimension is 2\n",
      "[ Info: Step: 41, current MPS bond dimension is 2\n",
      "[ Info: Step: 42, current MPS bond dimension is 2\n",
      "[ Info: Step: 43, current MPS bond dimension is 2\n",
      "[ Info: Step: 44, current MPS bond dimension is 2\n",
      "[ Info: Step: 45, current MPS bond dimension is 2\n",
      "[ Info: Step: 46, current MPS bond dimension is 2\n",
      "[ Info: Step: 47, current MPS bond dimension is 2\n",
      "[ Info: Step: 48, current MPS bond dimension is 2\n",
      "[ Info: Step: 49, current MPS bond dimension is 2\n",
      "[ Info: Step: 50, current MPS bond dimension is 2\n",
      "[ Info: Step: 51, current MPS bond dimension is 2\n",
      "[ Info: Step: 52, current MPS bond dimension is 2\n",
      "[ Info: Step: 53, current MPS bond dimension is 2\n",
      "[ Info: Step: 54, current MPS bond dimension is 2\n",
      "[ Info: Step: 55, current MPS bond dimension is 2\n",
      "[ Info: Step: 56, current MPS bond dimension is 2\n",
      "[ Info: Step: 57, current MPS bond dimension is 2\n",
      "[ Info: Step: 58, current MPS bond dimension is 2\n",
      "[ Info: Step: 59, current MPS bond dimension is 2\n",
      "[ Info: Step: 60, current MPS bond dimension is 2\n",
      "[ Info: Step: 61, current MPS bond dimension is 2\n",
      "[ Info: Step: 62, current MPS bond dimension is 2\n",
      "[ Info: Step: 63, current MPS bond dimension is 2\n",
      "[ Info: Step: 64, current MPS bond dimension is 2\n",
      "[ Info: Step: 65, current MPS bond dimension is 2\n",
      "[ Info: Step: 66, current MPS bond dimension is 2\n",
      "[ Info: Step: 67, current MPS bond dimension is 2\n",
      "[ Info: Step: 68, current MPS bond dimension is 2\n",
      "[ Info: Step: 69, current MPS bond dimension is 2\n",
      "[ Info: Step: 70, current MPS bond dimension is 2\n",
      "[ Info: Step: 71, current MPS bond dimension is 2\n",
      "[ Info: Step: 72, current MPS bond dimension is 2\n",
      "[ Info: Step: 73, current MPS bond dimension is 2\n",
      "[ Info: Step: 74, current MPS bond dimension is 2\n",
      "[ Info: Step: 75, current MPS bond dimension is 2\n",
      "[ Info: Step: 76, current MPS bond dimension is 2\n",
      "[ Info: Step: 77, current MPS bond dimension is 2\n",
      "[ Info: Step: 78, current MPS bond dimension is 2\n",
      "[ Info: Step: 79, current MPS bond dimension is 2\n",
      "[ Info: Step: 80, current MPS bond dimension is 2\n",
      "[ Info: Step: 81, current MPS bond dimension is 2\n",
      "[ Info: Step: 82, current MPS bond dimension is 2\n",
      "[ Info: Step: 83, current MPS bond dimension is 2\n",
      "[ Info: Step: 84, current MPS bond dimension is 2\n",
      "[ Info: Step: 85, current MPS bond dimension is 2\n",
      "[ Info: Step: 86, current MPS bond dimension is 2\n",
      "[ Info: Step: 87, current MPS bond dimension is 2\n",
      "[ Info: Step: 88, current MPS bond dimension is 2\n",
      "[ Info: Step: 89, current MPS bond dimension is 2\n",
      "[ Info: Step: 90, current MPS bond dimension is 2\n",
      "[ Info: Step: 91, current MPS bond dimension is 2\n",
      "[ Info: Step: 92, current MPS bond dimension is 2\n",
      "[ Info: Step: 93, current MPS bond dimension is 2\n",
      "[ Info: Step: 94, current MPS bond dimension is 2\n",
      "[ Info: Step: 95, current MPS bond dimension is 2\n",
      "[ Info: Step: 96, current MPS bond dimension is 2\n",
      "[ Info: Step: 97, current MPS bond dimension is 2\n",
      "[ Info: Step: 98, current MPS bond dimension is 2\n",
      "[ Info: Step: 99, current MPS bond dimension is 2\n",
      "[ Info: Step: 100, current MPS bond dimension is 2\n",
      "[ Info: Step: 101, current MPS bond dimension is 2\n",
      "[ Info: Step: 102, current MPS bond dimension is 2\n",
      "[ Info: Step: 103, current MPS bond dimension is 2\n",
      "[ Info: Step: 104, current MPS bond dimension is 2\n",
      "[ Info: Step: 105, current MPS bond dimension is 2\n",
      "[ Info: Step: 106, current MPS bond dimension is 2\n",
      "[ Info: Step: 107, current MPS bond dimension is 2\n",
      "[ Info: Step: 108, current MPS bond dimension is 2\n",
      "[ Info: Step: 109, current MPS bond dimension is 2\n",
      "[ Info: Step: 110, current MPS bond dimension is 2\n",
      "[ Info: Step: 111, current MPS bond dimension is 2\n",
      "[ Info: Step: 112, current MPS bond dimension is 2\n",
      "[ Info: Step: 113, current MPS bond dimension is 2\n",
      "[ Info: Step: 114, current MPS bond dimension is 2\n",
      "[ Info: Step: 115, current MPS bond dimension is 2\n",
      "[ Info: Step: 116, current MPS bond dimension is 2\n",
      "[ Info: Step: 117, current MPS bond dimension is 2\n",
      "[ Info: Step: 118, current MPS bond dimension is 2\n",
      "[ Info: Step: 119, current MPS bond dimension is 2\n",
      "[ Info: Step: 120, current MPS bond dimension is 2\n",
      "[ Info: Step: 121, current MPS bond dimension is 2\n",
      "[ Info: Step: 122, current MPS bond dimension is 2\n",
      "[ Info: Step: 123, current MPS bond dimension is 2\n",
      "[ Info: Step: 124, current MPS bond dimension is 2\n",
      "[ Info: Step: 125, current MPS bond dimension is 2\n",
      "[ Info: Step: 126, current MPS bond dimension is 2\n",
      "[ Info: Step: 127, current MPS bond dimension is 2\n",
      "[ Info: Step: 128, current MPS bond dimension is 2\n",
      "[ Info: Step: 129, current MPS bond dimension is 2\n",
      "[ Info: Step: 130, current MPS bond dimension is 2\n",
      "[ Info: Step: 131, current MPS bond dimension is 2\n",
      "[ Info: Step: 132, current MPS bond dimension is 2\n",
      "[ Info: Step: 133, current MPS bond dimension is 2\n",
      "[ Info: Step: 134, current MPS bond dimension is 2\n",
      "[ Info: Step: 135, current MPS bond dimension is 2\n",
      "[ Info: Step: 136, current MPS bond dimension is 2\n",
      "[ Info: Step: 137, current MPS bond dimension is 2\n",
      "[ Info: Step: 138, current MPS bond dimension is 2\n",
      "[ Info: Step: 139, current MPS bond dimension is 2\n",
      "[ Info: Step: 140, current MPS bond dimension is 2\n",
      "[ Info: Step: 141, current MPS bond dimension is 2\n",
      "[ Info: Step: 142, current MPS bond dimension is 2\n",
      "[ Info: Step: 143, current MPS bond dimension is 2\n",
      "[ Info: Step: 144, current MPS bond dimension is 2\n",
      "[ Info: Step: 145, current MPS bond dimension is 2\n",
      "[ Info: Step: 146, current MPS bond dimension is 2\n",
      "[ Info: Step: 147, current MPS bond dimension is 2\n",
      "[ Info: Step: 148, current MPS bond dimension is 2\n",
      "[ Info: Step: 149, current MPS bond dimension is 2\n",
      "[ Info: Step: 150, current MPS bond dimension is 2\n",
      "[ Info: Step: 151, current MPS bond dimension is 2\n",
      "[ Info: Step: 152, current MPS bond dimension is 2\n",
      "[ Info: Step: 153, current MPS bond dimension is 2\n",
      "[ Info: Step: 154, current MPS bond dimension is 2\n",
      "[ Info: Step: 155, current MPS bond dimension is 2\n",
      "[ Info: Step: 156, current MPS bond dimension is 2\n",
      "[ Info: Step: 157, current MPS bond dimension is 2\n",
      "[ Info: Step: 158, current MPS bond dimension is 2\n",
      "[ Info: Step: 159, current MPS bond dimension is 2\n",
      "[ Info: Step: 160, current MPS bond dimension is 2\n",
      "[ Info: Step: 161, current MPS bond dimension is 2\n",
      "[ Info: Step: 162, current MPS bond dimension is 2\n",
      "[ Info: Step: 163, current MPS bond dimension is 2\n",
      "[ Info: Step: 164, current MPS bond dimension is 2\n",
      "[ Info: Step: 165, current MPS bond dimension is 2\n",
      "[ Info: Step: 166, current MPS bond dimension is 2\n"
     ]
    },
    {
     "name": "stderr",
     "output_type": "stream",
     "text": [
      "[ Info: Step: 167, current MPS bond dimension is 2\n",
      "[ Info: Step: 168, current MPS bond dimension is 2\n",
      "[ Info: Step: 169, current MPS bond dimension is 2\n",
      "[ Info: Step: 170, current MPS bond dimension is 2\n",
      "[ Info: Step: 171, current MPS bond dimension is 2\n",
      "[ Info: Step: 172, current MPS bond dimension is 2\n",
      "[ Info: Step: 173, current MPS bond dimension is 2\n",
      "[ Info: Step: 174, current MPS bond dimension is 2\n",
      "[ Info: Step: 175, current MPS bond dimension is 2\n",
      "[ Info: Step: 176, current MPS bond dimension is 2\n",
      "[ Info: Step: 177, current MPS bond dimension is 2\n",
      "[ Info: Step: 178, current MPS bond dimension is 2\n",
      "[ Info: Step: 179, current MPS bond dimension is 2\n",
      "[ Info: Step: 180, current MPS bond dimension is 2\n",
      "[ Info: Step: 181, current MPS bond dimension is 2\n",
      "[ Info: Step: 182, current MPS bond dimension is 2\n",
      "[ Info: Step: 183, current MPS bond dimension is 2\n",
      "[ Info: Step: 184, current MPS bond dimension is 2\n",
      "[ Info: Step: 185, current MPS bond dimension is 2\n",
      "[ Info: Step: 186, current MPS bond dimension is 2\n",
      "[ Info: Step: 187, current MPS bond dimension is 2\n",
      "[ Info: Step: 188, current MPS bond dimension is 2\n",
      "[ Info: Step: 189, current MPS bond dimension is 2\n",
      "[ Info: Step: 190, current MPS bond dimension is 2\n",
      "[ Info: Step: 191, current MPS bond dimension is 2\n",
      "[ Info: Step: 192, current MPS bond dimension is 2\n",
      "[ Info: Step: 193, current MPS bond dimension is 2\n",
      "[ Info: Step: 194, current MPS bond dimension is 2\n",
      "[ Info: Step: 195, current MPS bond dimension is 2\n",
      "[ Info: Step: 196, current MPS bond dimension is 2\n",
      "[ Info: Step: 197, current MPS bond dimension is 2\n",
      "[ Info: Step: 198, current MPS bond dimension is 2\n",
      "[ Info: Step: 199, current MPS bond dimension is 2\n",
      "[ Info: Step: 200, current MPS bond dimension is 2\n",
      "[ Info: Step: 201, current MPS bond dimension is 2\n",
      "[ Info: Step: 202, current MPS bond dimension is 2\n",
      "[ Info: Step: 203, current MPS bond dimension is 2\n",
      "[ Info: Step: 204, current MPS bond dimension is 2\n",
      "[ Info: Step: 205, current MPS bond dimension is 2\n",
      "[ Info: Step: 206, current MPS bond dimension is 2\n",
      "[ Info: Step: 207, current MPS bond dimension is 2\n",
      "[ Info: Step: 208, current MPS bond dimension is 2\n",
      "[ Info: Step: 209, current MPS bond dimension is 2\n",
      "[ Info: Step: 210, current MPS bond dimension is 2\n",
      "[ Info: Step: 211, current MPS bond dimension is 2\n",
      "[ Info: Step: 212, current MPS bond dimension is 2\n",
      "[ Info: Step: 213, current MPS bond dimension is 2\n",
      "[ Info: Step: 214, current MPS bond dimension is 2\n",
      "[ Info: Step: 215, current MPS bond dimension is 2\n",
      "[ Info: Step: 216, current MPS bond dimension is 2\n",
      "[ Info: Step: 217, current MPS bond dimension is 2\n",
      "[ Info: Step: 218, current MPS bond dimension is 2\n",
      "[ Info: Step: 219, current MPS bond dimension is 2\n",
      "[ Info: Step: 220, current MPS bond dimension is 2\n",
      "[ Info: Step: 221, current MPS bond dimension is 2\n",
      "[ Info: Step: 222, current MPS bond dimension is 2\n",
      "[ Info: Step: 223, current MPS bond dimension is 2\n",
      "[ Info: Step: 224, current MPS bond dimension is 2\n",
      "[ Info: Step: 225, current MPS bond dimension is 2\n",
      "[ Info: Step: 226, current MPS bond dimension is 2\n",
      "[ Info: Step: 227, current MPS bond dimension is 2\n",
      "[ Info: Step: 228, current MPS bond dimension is 2\n",
      "[ Info: Step: 229, current MPS bond dimension is 2\n",
      "[ Info: Step: 230, current MPS bond dimension is 2\n",
      "[ Info: Step: 231, current MPS bond dimension is 2\n",
      "[ Info: Step: 232, current MPS bond dimension is 2\n",
      "[ Info: Step: 233, current MPS bond dimension is 2\n",
      "[ Info: Step: 234, current MPS bond dimension is 2\n",
      "[ Info: Step: 235, current MPS bond dimension is 2\n",
      "[ Info: Step: 236, current MPS bond dimension is 2\n",
      "[ Info: Step: 237, current MPS bond dimension is 2\n",
      "[ Info: Step: 238, current MPS bond dimension is 2\n",
      "[ Info: Step: 239, current MPS bond dimension is 2\n",
      "[ Info: Step: 240, current MPS bond dimension is 2\n",
      "[ Info: Step: 241, current MPS bond dimension is 2\n",
      "[ Info: Step: 242, current MPS bond dimension is 2\n",
      "[ Info: Step: 243, current MPS bond dimension is 2\n",
      "[ Info: Step: 244, current MPS bond dimension is 2\n",
      "[ Info: Step: 245, current MPS bond dimension is 2\n",
      "[ Info: Step: 246, current MPS bond dimension is 2\n",
      "[ Info: Step: 247, current MPS bond dimension is 2\n",
      "[ Info: Step: 248, current MPS bond dimension is 2\n",
      "[ Info: Step: 249, current MPS bond dimension is 2\n",
      "[ Info: Step: 250, current MPS bond dimension is 2\n",
      "[ Info: Step: 251, current MPS bond dimension is 2\n",
      "[ Info: Step: 252, current MPS bond dimension is 2\n",
      "[ Info: Step: 253, current MPS bond dimension is 2\n",
      "[ Info: Step: 254, current MPS bond dimension is 2\n",
      "[ Info: Step: 255, current MPS bond dimension is 2\n",
      "[ Info: Step: 256, current MPS bond dimension is 2\n",
      "[ Info: Step: 257, current MPS bond dimension is 2\n",
      "[ Info: Step: 258, current MPS bond dimension is 2\n",
      "[ Info: Step: 259, current MPS bond dimension is 2\n",
      "[ Info: Step: 260, current MPS bond dimension is 2\n",
      "[ Info: Step: 261, current MPS bond dimension is 2\n",
      "[ Info: Step: 262, current MPS bond dimension is 2\n",
      "[ Info: Step: 263, current MPS bond dimension is 2\n",
      "[ Info: Step: 264, current MPS bond dimension is 2\n",
      "[ Info: Step: 265, current MPS bond dimension is 2\n",
      "[ Info: Step: 266, current MPS bond dimension is 2\n",
      "[ Info: Step: 267, current MPS bond dimension is 2\n",
      "[ Info: Step: 268, current MPS bond dimension is 2\n",
      "[ Info: Step: 269, current MPS bond dimension is 2\n",
      "[ Info: Step: 270, current MPS bond dimension is 2\n",
      "[ Info: Step: 271, current MPS bond dimension is 2\n",
      "[ Info: Step: 272, current MPS bond dimension is 2\n",
      "[ Info: Step: 273, current MPS bond dimension is 2\n",
      "[ Info: Step: 274, current MPS bond dimension is 2\n",
      "[ Info: Step: 275, current MPS bond dimension is 2\n",
      "[ Info: Step: 276, current MPS bond dimension is 2\n",
      "[ Info: Step: 277, current MPS bond dimension is 2\n",
      "[ Info: Step: 278, current MPS bond dimension is 2\n",
      "[ Info: Step: 279, current MPS bond dimension is 2\n",
      "[ Info: Step: 280, current MPS bond dimension is 2\n",
      "[ Info: Step: 281, current MPS bond dimension is 2\n",
      "[ Info: Step: 282, current MPS bond dimension is 2\n",
      "[ Info: Step: 283, current MPS bond dimension is 2\n",
      "[ Info: Step: 284, current MPS bond dimension is 2\n",
      "[ Info: Step: 285, current MPS bond dimension is 2\n",
      "[ Info: Step: 286, current MPS bond dimension is 2\n",
      "[ Info: Step: 287, current MPS bond dimension is 2\n",
      "[ Info: Step: 288, current MPS bond dimension is 2\n",
      "[ Info: Step: 289, current MPS bond dimension is 2\n",
      "[ Info: Step: 290, current MPS bond dimension is 2\n",
      "[ Info: Step: 291, current MPS bond dimension is 2\n",
      "[ Info: Step: 292, current MPS bond dimension is 2\n",
      "[ Info: Step: 293, current MPS bond dimension is 2\n",
      "[ Info: Step: 294, current MPS bond dimension is 2\n",
      "[ Info: Step: 295, current MPS bond dimension is 2\n",
      "[ Info: Step: 296, current MPS bond dimension is 2\n",
      "[ Info: Step: 297, current MPS bond dimension is 2\n",
      "[ Info: Step: 298, current MPS bond dimension is 2\n",
      "[ Info: Step: 299, current MPS bond dimension is 2\n",
      "[ Info: Step: 300, current MPS bond dimension is 2\n",
      "[ Info: Step: 301, current MPS bond dimension is 2\n",
      "[ Info: Step: 302, current MPS bond dimension is 2\n",
      "[ Info: Step: 303, current MPS bond dimension is 2\n",
      "[ Info: Step: 304, current MPS bond dimension is 2\n",
      "[ Info: Step: 305, current MPS bond dimension is 2\n",
      "[ Info: Step: 306, current MPS bond dimension is 2\n",
      "[ Info: Step: 307, current MPS bond dimension is 2\n",
      "[ Info: Step: 308, current MPS bond dimension is 2\n",
      "[ Info: Step: 309, current MPS bond dimension is 2\n",
      "[ Info: Step: 310, current MPS bond dimension is 2\n",
      "[ Info: Step: 311, current MPS bond dimension is 2\n",
      "[ Info: Step: 312, current MPS bond dimension is 2\n",
      "[ Info: Step: 313, current MPS bond dimension is 2\n",
      "[ Info: Step: 314, current MPS bond dimension is 2\n",
      "[ Info: Step: 315, current MPS bond dimension is 2\n",
      "[ Info: Step: 316, current MPS bond dimension is 2\n",
      "[ Info: Step: 317, current MPS bond dimension is 2\n",
      "[ Info: Step: 318, current MPS bond dimension is 2\n",
      "[ Info: Step: 319, current MPS bond dimension is 2\n",
      "[ Info: Step: 320, current MPS bond dimension is 2\n",
      "[ Info: Step: 321, current MPS bond dimension is 2\n",
      "[ Info: Step: 322, current MPS bond dimension is 2\n",
      "[ Info: Step: 323, current MPS bond dimension is 2\n",
      "[ Info: Step: 324, current MPS bond dimension is 2\n",
      "[ Info: Step: 325, current MPS bond dimension is 2\n",
      "[ Info: Step: 326, current MPS bond dimension is 2\n",
      "[ Info: Step: 327, current MPS bond dimension is 2\n",
      "[ Info: Step: 328, current MPS bond dimension is 2\n",
      "[ Info: Step: 329, current MPS bond dimension is 2\n",
      "[ Info: Step: 330, current MPS bond dimension is 2\n",
      "[ Info: Step: 331, current MPS bond dimension is 2\n",
      "[ Info: Step: 332, current MPS bond dimension is 2\n",
      "[ Info: Step: 333, current MPS bond dimension is 2\n",
      "[ Info: Step: 334, current MPS bond dimension is 2\n",
      "[ Info: Step: 335, current MPS bond dimension is 2\n",
      "[ Info: Step: 336, current MPS bond dimension is 2\n",
      "[ Info: Step: 337, current MPS bond dimension is 2\n",
      "[ Info: Step: 338, current MPS bond dimension is 2\n",
      "[ Info: Step: 339, current MPS bond dimension is 2\n",
      "[ Info: Step: 340, current MPS bond dimension is 2\n",
      "[ Info: Step: 341, current MPS bond dimension is 2\n",
      "[ Info: Step: 342, current MPS bond dimension is 2\n",
      "[ Info: Step: 343, current MPS bond dimension is 2\n",
      "[ Info: Step: 344, current MPS bond dimension is 2\n",
      "[ Info: Step: 345, current MPS bond dimension is 2\n",
      "[ Info: Step: 346, current MPS bond dimension is 2\n",
      "[ Info: Step: 347, current MPS bond dimension is 2\n",
      "[ Info: Step: 348, current MPS bond dimension is 2\n",
      "[ Info: Step: 349, current MPS bond dimension is 2\n",
      "[ Info: Step: 350, current MPS bond dimension is 2\n",
      "[ Info: Step: 351, current MPS bond dimension is 2\n",
      "[ Info: Step: 352, current MPS bond dimension is 2\n",
      "[ Info: Step: 353, current MPS bond dimension is 2\n",
      "[ Info: Step: 354, current MPS bond dimension is 2\n"
     ]
    },
    {
     "name": "stderr",
     "output_type": "stream",
     "text": [
      "[ Info: Step: 355, current MPS bond dimension is 2\n",
      "[ Info: Step: 356, current MPS bond dimension is 2\n",
      "[ Info: Step: 357, current MPS bond dimension is 2\n",
      "[ Info: Step: 358, current MPS bond dimension is 2\n",
      "[ Info: Step: 359, current MPS bond dimension is 2\n",
      "[ Info: Step: 360, current MPS bond dimension is 2\n",
      "[ Info: Step: 361, current MPS bond dimension is 2\n",
      "[ Info: Step: 362, current MPS bond dimension is 2\n",
      "[ Info: Step: 363, current MPS bond dimension is 2\n",
      "[ Info: Step: 364, current MPS bond dimension is 2\n",
      "[ Info: Step: 365, current MPS bond dimension is 2\n",
      "[ Info: Step: 366, current MPS bond dimension is 2\n",
      "[ Info: Step: 367, current MPS bond dimension is 2\n",
      "[ Info: Step: 368, current MPS bond dimension is 2\n",
      "[ Info: Step: 369, current MPS bond dimension is 2\n",
      "[ Info: Step: 370, current MPS bond dimension is 2\n",
      "[ Info: Step: 371, current MPS bond dimension is 2\n",
      "[ Info: Step: 372, current MPS bond dimension is 2\n",
      "[ Info: Step: 373, current MPS bond dimension is 2\n",
      "[ Info: Step: 374, current MPS bond dimension is 2\n",
      "[ Info: Step: 375, current MPS bond dimension is 2\n",
      "[ Info: Step: 376, current MPS bond dimension is 2\n",
      "[ Info: Step: 377, current MPS bond dimension is 2\n",
      "[ Info: Step: 378, current MPS bond dimension is 2\n",
      "[ Info: Step: 379, current MPS bond dimension is 2\n",
      "[ Info: Step: 380, current MPS bond dimension is 2\n",
      "[ Info: Step: 381, current MPS bond dimension is 2\n",
      "[ Info: Step: 382, current MPS bond dimension is 2\n",
      "[ Info: Step: 383, current MPS bond dimension is 2\n",
      "[ Info: Step: 384, current MPS bond dimension is 2\n",
      "[ Info: Step: 385, current MPS bond dimension is 2\n",
      "[ Info: Step: 386, current MPS bond dimension is 2\n",
      "[ Info: Step: 387, current MPS bond dimension is 2\n",
      "[ Info: Step: 388, current MPS bond dimension is 2\n",
      "[ Info: Step: 389, current MPS bond dimension is 2\n",
      "[ Info: Step: 390, current MPS bond dimension is 2\n",
      "[ Info: Step: 391, current MPS bond dimension is 2\n",
      "[ Info: Step: 392, current MPS bond dimension is 2\n",
      "[ Info: Step: 393, current MPS bond dimension is 2\n",
      "[ Info: Step: 394, current MPS bond dimension is 2\n",
      "[ Info: Step: 395, current MPS bond dimension is 2\n",
      "[ Info: Step: 396, current MPS bond dimension is 2\n",
      "[ Info: Step: 397, current MPS bond dimension is 2\n",
      "[ Info: Step: 398, current MPS bond dimension is 2\n",
      "[ Info: Step: 399, current MPS bond dimension is 2\n",
      "[ Info: Step: 400, current MPS bond dimension is 2\n",
      "[ Info: Elapsed time and memory used: 36.120077.\n",
      "[ Info: Number of atoms: 3, MPS cutoff: 1.0e-7, max_bond_dim: 16, Trotter steps: 400\n",
      "[ Info: Computing final correlation functions and saving results.\n",
      "[ Info: Results are saved to julia_data_plots/mps_density.csv\n",
      "[ Info: Sampling from final MPS state\n",
      "[ Info: Samples are saved to julia_data_plots/mps_samples.csv\n",
      "[ Info: Evaluating correlation function ...\n",
      "[ Info: Evaluating energies at t=T ...\n",
      "[ Info: Final global detuning (Δ_glob_end): 0.0\n",
      "[ Info: Final local detuning (Δ_loc_end): -5.0e7\n",
      "[ Info: Simulation complete.\n"
     ]
    },
    {
     "data": {
      "text/plain": [
       "CompletedProcess(args=['julia', '../mps_runner.jl', '--program-path', 'ahs_program.json', '--experiment-path', 'julia_data_plots'], returncode=0)"
      ]
     },
     "execution_count": 18,
     "metadata": {},
     "output_type": "execute_result"
    }
   ],
   "source": [
    "import subprocess\n",
    "\n",
    "subprocess.run(['julia', '../mps_runner.jl', \n",
    "                '--program-path', filename, \n",
    "                '--experiment-path', 'julia_data_plots']\n",
    "              )"
   ]
  },
  {
   "cell_type": "markdown",
   "id": "97f4937e",
   "metadata": {},
   "source": [
    "We can confirm that the tensor-network AHS simulator gives the same result as the Braket AHS local simulator, by printing out the number of occurrence of all the bit strings, which is saved in the file `mps_samples.csv`."
   ]
  },
  {
   "cell_type": "code",
   "execution_count": 39,
   "id": "3dcad5bb",
   "metadata": {},
   "outputs": [
    {
     "name": "stdout",
     "output_type": "stream",
     "text": [
      "[0 0 0] 503\n",
      "[0 0 1] 1\n",
      "[0 1 0] 252\n",
      "[1 0 0] 244\n"
     ]
    }
   ],
   "source": [
    "import pandas\n",
    "csvFile = pandas.read_csv(\"julia_data_plots/mps_samples.csv\")\n",
    "\n",
    "unique, counts = np.unique(csvFile.values, axis = 0, return_counts=True)\n",
    "\n",
    "for row, c in zip(unique, counts):\n",
    "    print(row, c)"
   ]
  },
  {
   "cell_type": "markdown",
   "id": "dbfd8331",
   "metadata": {},
   "source": [
    "Here, `0` and `1` correspond to an atom excited to the ground and Rydberg states respectively. Indeed, the tensor-network AHS simulator gives consistent result as the Braket AHS local simulator. We note that the tensor-network AHS simulator also produces results other than the bit strings. For more information, please refer to [the information](https://github.com/amazon-braket/tensor-network-ahs/tree/main?tab=readme-ov-file#mps-results) in the repo. "
   ]
  },
  {
   "cell_type": "code",
   "execution_count": null,
   "id": "cb7e900b",
   "metadata": {},
   "outputs": [],
   "source": []
  }
 ],
 "metadata": {
  "kernelspec": {
   "display_name": "Python 3 (ipykernel)",
   "language": "python",
   "name": "python3"
  },
  "language_info": {
   "codemirror_mode": {
    "name": "ipython",
    "version": 3
   },
   "file_extension": ".py",
   "mimetype": "text/x-python",
   "name": "python",
   "nbconvert_exporter": "python",
   "pygments_lexer": "ipython3",
   "version": "3.11.4"
  },
  "varInspector": {
   "cols": {
    "lenName": 16,
    "lenType": 16,
    "lenVar": 40
   },
   "kernels_config": {
    "python": {
     "delete_cmd_postfix": "",
     "delete_cmd_prefix": "del ",
     "library": "var_list.py",
     "varRefreshCmd": "print(var_dic_list())"
    },
    "r": {
     "delete_cmd_postfix": ") ",
     "delete_cmd_prefix": "rm(",
     "library": "var_list.r",
     "varRefreshCmd": "cat(var_dic_list()) "
    }
   },
   "types_to_exclude": [
    "module",
    "function",
    "builtin_function_or_method",
    "instance",
    "_Feature"
   ],
   "window_display": false
  }
 },
 "nbformat": 4,
 "nbformat_minor": 5
}
