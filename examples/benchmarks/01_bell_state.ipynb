{
 "cells": [
  {
   "cell_type": "markdown",
   "id": "7e654ed0-3672-40e9-bed5-be641120a728",
   "metadata": {},
   "source": [
    "# Noisy quantum evolution with Rydberg atoms\n",
    "\n",
    "\n",
    "Noise is ubiquitous in quantum computers which affects the accuracy of the calculations they perform. Various sources could contribute to the noise in a quantum computer, including cosmic rays, disturbances caused by an approaching train, or even the ambient light of the room where the quantum computer sits. These sources of error could affect qubit lifetimes, gate fidelities, and the reliability of preparation and measurement. In previous notebooks, we have introduced [the noise models on Amazon Braket](https://github.com/amazon-braket/amazon-braket-examples/blob/main/examples/braket_features/Noise_models/Noise_models_on_Amazon_Braket.ipynb) and [those on Rigetti](https://github.com/amazon-braket/amazon-braket-examples/blob/main/examples/braket_features/Noise_models/Noise_models_on_Rigetti.ipynb), which focus on the noise models for gate-based devices. In this notebook, we will dive deep into several sources of noise for Rydberg devices, which have different underlying physics, and understand how they affect the analog Hamiltonian simulation (AHS) program running on these devices. In particular, we will use the coherent evolution of the Bell state of a pair Rydberg atoms under the AHS Hamiltonian to illustrate the effects of different noise sources.\"\n",
    "\n",
    "## Creating and evolving a Bell state with Rydberg atoms\n",
    "\n",
    "[Bell states](https://en.wikipedia.org/wiki/Bell_state) are a set of maximally entagled states of two qubits. Here, we consider creating and evolving a Bell state with Rydberg atoms in the presence of noise. We will see how noise affects the quality of the prepared Bell state and its quantum evolution. \n",
    "\n",
    "For a pair of atoms, their Rydberg Hamiltonian can be written as a $4\\times4$ matrix in the basis of $\\left\\{|gg\\rangle, |gr\\rangle, |rg\\rangle, |rr\\rangle\\right\\}$\n",
    "\\begin{align}\n",
    "H = \n",
    "\\begin{bmatrix}\n",
    "0 & \\frac{\\Omega}{2} & \\frac{\\Omega}{2} & 0 \\\\\n",
    "\\frac{\\Omega}{2} & -\\Delta & 0 & \\frac{\\Omega}{2}\\\\\n",
    "\\frac{\\Omega}{2} & 0 & -\\Delta & \\frac{\\Omega}{2}\\\\\n",
    "0 & \\frac{\\Omega}{2} & \\frac{\\Omega}{2} & V-2\\Delta\n",
    "\\end{bmatrix}.\n",
    "\\end{align}\n",
    "Here $\\Omega$ and $\\Delta$ are the amplitude and detuning of a time-varying global driving field, and $V\\equiv C_6/R^6$ is the interaction strength between the two atoms which depends on their distance $R$ and a constant $C_6\\equiv 5.42\\times10^{-24} \\text{ rad m}^6/\\text{s}$. To create a Bell state, we consider putting the two atoms within the Rydberg blockade radius. As discussed in [this notebook](https://github.com/amazon-braket/amazon-braket-examples/blob/main/examples/analog_hamiltonian_simulation/00_Introduction_of_Analog_Hamiltonian_Simulation_with_Rydberg_Atoms.ipynb), if both atoms are subject to zero detuning ($\\Delta=0$), it is very unlikely to excite both atoms to the Rydberg states simultaneously and effectively there are only three states in the Hilbert space, namely $|gg\\rangle$, $|gr\\rangle$ and $|rg\\rangle$. Suppose the two atoms are initilized in the ground state and the amplitude of the driving field, which has duration $T$, satisfies (we will refer to the following quantity as amplitude area below)\n",
    "\\begin{align}\n",
    "\\int_{0}^T\\Omega(t)dt = \\frac{\\pi}{\\sqrt{2}},\n",
    "\\end{align}\n",
    "then one can show that the final state of the two atoms is a Bell state, i.e.,\n",
    "\\begin{align}\n",
    "|\\phi_1\\rangle = \\exp\\left\\{-i\n",
    "\\begin{bmatrix}\n",
    "0 & \\frac{\\pi}{2\\sqrt{2}} & \\frac{\\pi}{2\\sqrt{2}}\\\\\n",
    "\\frac{\\pi}{2\\sqrt{2}} & 0 & 0 \\\\\n",
    "\\frac{\\pi}{2\\sqrt{2}} & 0 & 0\n",
    "\\end{bmatrix}\n",
    "\\right\\} \n",
    "\\begin{bmatrix}\n",
    "|gg\\rangle \\\\\n",
    "|gr\\rangle \\\\\n",
    "|rg\\rangle\n",
    "\\end{bmatrix}\n",
    "=-\\frac{i}{\\sqrt{2}}(|gr\\rangle + |rg\\rangle).\n",
    "\\end{align}\n",
    "\n",
    "\n",
    "After the Bell state is created, we consider its evolution subject to a global driving field with nonzero amplitude and detuning. In particular, the detuing is set to a constant value that is *exactly* equal to the interaction between the two atoms, i.e., $V=\\Delta$. In this case, because $-\\Delta=-V\\ll 0$, the states $\\left\\{|gr\\rangle, |rg\\rangle, |rr\\rangle\\right\\}$ are at the energy levels much smaller than that of $|gg\\rangle$, and hence the evolution is approximately governed by the $3\\times3$ Hamiltonian\n",
    "\\begin{align}\n",
    "H = \n",
    "\\begin{bmatrix}\n",
    " -\\Delta & 0 & \\frac{\\Omega}{2}\\\\\n",
    " 0 & -\\Delta & \\frac{\\Omega}{2}\\\\\n",
    " \\frac{\\Omega}{2} & \\frac{\\Omega}{2} & -\\Delta\n",
    "\\end{bmatrix},\n",
    "\\end{align}\n",
    "in the basis of $\\left\\{|gr\\rangle, |rg\\rangle, |rr\\rangle\\right\\}$. With the initial state being the Bell state $|\\phi_1\\rangle$, we can solve the time-dependent wave function as (up to a global phase)\n",
    "\\begin{align}\n",
    "|\\psi(t)\\rangle = \\cos\\frac{\\Omega t}{\\sqrt{2}}|\\phi_1\\rangle - \\sin\\frac{\\Omega t}{\\sqrt{2}}|rr\\rangle.\n",
    "\\end{align}\n",
    "It is clear that $|\\psi(t=0)\\rangle=|\\phi_1\\rangle$, and its evolution can be viewed as an oscillation between $|\\phi_1\\rangle$ itself and $|rr\\rangle$. This demonstrates that, with strong global detuning applied to two atoms within the blockade radius, we can excite both atoms to the Rydberg states which is otherwise forbidden by the strong Rydberg blockade interaction.\n",
    "\n",
    "Below we first exhibit a noiseless AHS program that realizes the creation and evolution of Bell states, followed by showing how to add various noise to the program and their impact to the result of the program. Finally we submit the noiseless AHS program to Aquila and compare the result to the noise simulation result. \n",
    "\n",
    "## Noiseless AHS program for creating and evolving a Bell state"
   ]
  },
  {
   "cell_type": "code",
   "execution_count": 1,
   "id": "d406228d-fbe8-4cde-8578-e502900f7892",
   "metadata": {},
   "outputs": [],
   "source": [
    "from pprint import pprint as pp\n",
    "from braket.aws import AwsDevice \n",
    "\n",
    "qpu = AwsDevice(\"arn:aws:braket:us-east-1::device/qpu/quera/Aquila\")\n",
    "capabilities = qpu.properties.paradigm"
   ]
  },
  {
   "cell_type": "code",
   "execution_count": 2,
   "id": "7c248579-684e-478a-8227-8c5f15558428",
   "metadata": {
    "tags": []
   },
   "outputs": [],
   "source": [
    "from braket.ahs.atom_arrangement import AtomArrangement\n",
    "from braket.ahs.analog_hamiltonian_simulation import AnalogHamiltonianSimulation\n",
    "from ahs_utils import show_global_drive, show_register, show_drive_and_local_detuning\n",
    "from braket.ahs.driving_field import DrivingField\n",
    "from braket.timings.time_series import TimeSeries\n",
    "\n",
    "amplitude_max = float(capabilities.rydberg.rydbergGlobal.rabiFrequencyRange[-1])\n",
    "detuning_slew_rate = float(capabilities.rydberg.rydbergGlobal.detuningSlewRateMax)\n",
    "amplitude_slew_rate = float(capabilities.rydberg.rydbergGlobal.rabiFrequencySlewRateMax)\n",
    "time_separation_min = float(capabilities.rydberg.rydbergGlobal.timeDeltaMin)\n",
    "height = float(capabilities.lattice.area.height)\n",
    "width = float(capabilities.lattice.area.width)\n",
    "C6 = float(capabilities.rydberg.c6Coefficient)\n",
    "\n",
    "\n",
    "def create_evolve_bell_states(\n",
    "    atom_separation: float = 6.7e-6, # The separation of the two atoms used throughout the notebook\n",
    "    amplitude_area: float = 0.0,\n",
    "    if_show_global_drive: bool = False,\n",
    "    if_parallel: bool = False,\n",
    "    patch_separation: float = 24e-6,\n",
    ") -> AnalogHamiltonianSimulation:\n",
    "    \"\"\"\n",
    "    Return an AHS program to create and evolve a Bell state with Rydberg atoms\n",
    "\n",
    "    Args:\n",
    "        atom_separation (float): The separation of the two atoms\n",
    "        amplitude_area (float): The area of the amplitude for the evolution\n",
    "        if_show_global_drive (bool): If true, a figure for global drive will be shown\n",
    "        if_parallel (bool): If true, multiple patches of the two atoms will be created,\n",
    "            which is typically used when running simulation on the quantum hardware\n",
    "        patch_separation (float): The vertical and horizontal separations of the patches\n",
    "\n",
    "    Returns:\n",
    "        (AnalogHamiltonianSimulation): The AHS program for creating and evolving a Bell state\n",
    "    \"\"\"    \n",
    "    \n",
    "    detuning_max = C6/(atom_separation**6)\n",
    "    t_ramp_detuning = detuning_max / detuning_slew_rate\n",
    "    t_ramp_detuning = max(t_ramp_detuning, time_separation_min)\n",
    "    \n",
    "    # Define register\n",
    "    coords = [(0, 0), (0, atom_separation)]\n",
    "    if if_parallel:\n",
    "        # Extend along y direction\n",
    "        n_height = int(height // (atom_separation + patch_separation))\n",
    "        if n_height * (atom_separation + patch_separation) + atom_separation < height:\n",
    "            n_height += 1\n",
    "            \n",
    "        for i in range(n_height-1):\n",
    "            coords.append((0, patch_separation * (i+1)))\n",
    "            coords.append((0, atom_separation + patch_separation * (i+1)))\n",
    "            \n",
    "        # Extend along x direction\n",
    "        n_width = int(width // patch_separation)\n",
    "        if n_width * patch_separation < width:\n",
    "            n_width += 1\n",
    "        \n",
    "        for i in range(n_width-1):\n",
    "            for j in range(n_height):\n",
    "                coords.append((patch_separation * (i+1), patch_separation * j))\n",
    "                coords.append((patch_separation * (i+1), atom_separation + patch_separation * j))\n",
    "    \n",
    "    register = AtomArrangement()\n",
    "    for coord in coords:\n",
    "        register.add(coord)\n",
    "\n",
    "    # Prepare the Bell state\n",
    "    amplitude = TimeSeries.trapezoidal_signal(np.pi/np.sqrt(2), amplitude_max, amplitude_slew_rate, time_separation_min=time_separation_min)\n",
    "    detuning = TimeSeries.constant_like(amplitude, 0.0)\n",
    "    phase = TimeSeries.constant_like(amplitude, 0.0)\n",
    "    \n",
    "    \n",
    "    # Evolve\n",
    "    if amplitude_area > 0:\n",
    "        \n",
    "        # Ramp up the detuning\n",
    "        t_prep = amplitude.times()[-1]\n",
    "        amplitude.put(t_prep + t_ramp_detuning, 0.0)\n",
    "        detuning.put(t_prep + t_ramp_detuning, detuning_max)\n",
    "        phase.put(t_prep + t_ramp_detuning, 0.0)\n",
    "\n",
    "        amplitude_evolve = TimeSeries.trapezoidal_signal(amplitude_area, amplitude_max, amplitude_slew_rate, time_separation_min=time_separation_min)\n",
    "        amplitude = amplitude.stitch(amplitude_evolve)\n",
    "        detuning = detuning.stitch(TimeSeries.constant_like(amplitude_evolve, detuning_max))\n",
    "        phase = phase.stitch(TimeSeries.constant_like(amplitude_evolve, 0.0))\n",
    "    \n",
    "    \n",
    "    drive = DrivingField(amplitude=amplitude, phase=phase, detuning=detuning)\n",
    "    \n",
    "    if if_show_global_drive:\n",
    "        show_global_drive(drive)\n",
    "                \n",
    "    program = AnalogHamiltonianSimulation(\n",
    "        register = register,\n",
    "        hamiltonian = drive\n",
    "    )\n",
    "    \n",
    "    return program\n",
    "\n",
    "def aggregate_counters(counters: dict[str, int]) -> dict[str, int]:\n",
    "    \n",
    "    states = ['gg', 'gr', 'rg', 'rr']\n",
    "    counters2 = {state: 0 for state in states}    \n",
    "    shots = 0\n",
    "    for key, val in counters.items():\n",
    "        for i in range(int(len(key)/2)):\n",
    "            state = key[2*i:2*i+2]\n",
    "            if state in counters2.keys():\n",
    "                counters2[state] += val \n",
    "                shots += val\n",
    "    \n",
    "    for key, val in counters2.items():\n",
    "        counters2[key] = val/shots\n",
    "                \n",
    "    return counters2"
   ]
  },
  {
   "cell_type": "markdown",
   "id": "1f6ec766-566a-4889-ba2f-af7cddca617a",
   "metadata": {},
   "source": [
    "Below we show an example AHS program. The first part of the program creates a Bell state with zero detuning, and then the detuning is ramped up to a constant value followed by a trapezoidal waveform for the amplitude which is similar to that used to create the Bell state. The evolution of the Bell state can be realized by varying the area of the second trapezoidal waveform for the amplitude. We note that because of the finite ramping time of the amplitude, the evolution of the Bell state will have slight discrepancy compared to the ideal Rabi oscillation between $|\\phi_1\\rangle$ and $|rr\\rangle$, as described above. But as the ramping time is only of the order of $10^{-8}$ seconds, the discprepancy is very small as we will see below."
   ]
  },
  {
   "cell_type": "code",
   "execution_count": 3,
   "id": "f8711e39-5a37-4a9a-8ad6-f3eaac8c7e42",
   "metadata": {
    "tags": []
   },
   "outputs": [
    {
     "data": {
      "image/png": "[encoded data removed]",
      "text/plain": [
       "<Figure size 504x504 with 3 Axes>"
      ]
     },
     "metadata": {
      "needs_background": "light"
     },
     "output_type": "display_data"
    }
   ],
   "source": [
    "import numpy as np\n",
    "\n",
    "program_1 = create_evolve_bell_states(amplitude_area = 0, if_show_global_drive=True, if_parallel=True) ;"
   ]
  },
  {
   "cell_type": "code",
   "execution_count": 4,
   "id": "136432e3-3ec0-455d-a4f7-e8a0fd4e801d",
   "metadata": {
    "tags": []
   },
   "outputs": [
    {
     "data": {
      "image/png": "[encoded data removed]",
      "text/plain": [
       "<Figure size 504x504 with 3 Axes>"
      ]
     },
     "metadata": {
      "needs_background": "light"
     },
     "output_type": "display_data"
    }
   ],
   "source": [
    "program_2 = create_evolve_bell_states(amplitude_area = np.pi/np.sqrt(2), if_show_global_drive=True, if_parallel=True) ;"
   ]
  },
  {
   "cell_type": "code",
   "execution_count": 5,
   "id": "9e66f187-0bce-4c7c-b33e-19d03b027625",
   "metadata": {
    "tags": []
   },
   "outputs": [
    {
     "data": {
      "text/plain": [
       "24"
      ]
     },
     "execution_count": 5,
     "metadata": {},
     "output_type": "execute_result"
    }
   ],
   "source": [
    "sum(program_2.to_ir().setup.ahs_register.filling)"
   ]
  },
  {
   "cell_type": "code",
   "execution_count": 6,
   "id": "6b6a2e0a-1c30-49d3-8805-42cb34446f7e",
   "metadata": {
    "tags": []
   },
   "outputs": [],
   "source": [
    "from braket.devices import LocalSimulator\n",
    "\n",
    "simulator = LocalSimulator(\"braket_ahs_tn\")"
   ]
  },
  {
   "cell_type": "code",
   "execution_count": 8,
   "id": "da8ac70f-4828-4f03-901c-ce164c497955",
   "metadata": {
    "tags": []
   },
   "outputs": [
    {
     "name": "stdout",
     "output_type": "stream",
     "text": [
      "CPU times: user 137 ms, sys: 3.97 ms, total: 141 ms\n",
      "Wall time: 1min 7s\n"
     ]
    }
   ],
   "source": [
    "%%time \n",
    "task_1_tebd = simulator.run(program_1, steps=100, shots=1000, max_bond_dim=16, solver=\"tebd\")"
   ]
  },
  {
   "cell_type": "code",
   "execution_count": 36,
   "id": "da5ad7b2-9f7b-4c64-81bc-3396a01bd8ef",
   "metadata": {
    "tags": []
   },
   "outputs": [
    {
     "data": {
      "text/plain": [
       "{'gg': 0.006833333333333334,\n",
       " 'gr': 0.49,\n",
       " 'rg': 0.4915,\n",
       " 'rr': 0.011666666666666667}"
      ]
     },
     "execution_count": 36,
     "metadata": {},
     "output_type": "execute_result"
    }
   ],
   "source": [
    "aggregate_counters(task_1_tebd.result().get_counts())"
   ]
  },
  {
   "cell_type": "code",
   "execution_count": 9,
   "id": "a476791b-cf5d-4b15-a458-371fc07199ec",
   "metadata": {
    "tags": []
   },
   "outputs": [
    {
     "name": "stdout",
     "output_type": "stream",
     "text": [
      "CPU times: user 138 ms, sys: 61 μs, total: 138 ms\n",
      "Wall time: 1min 27s\n"
     ]
    }
   ],
   "source": [
    "%%time \n",
    "task_1_tdvp = simulator.run(program_1, steps=100, shots=1000, max_bond_dim=16, solver=\"tdvp\")"
   ]
  },
  {
   "cell_type": "code",
   "execution_count": 37,
   "id": "1a88778e-178b-46b2-a1fe-ad20b6203d5b",
   "metadata": {
    "tags": []
   },
   "outputs": [
    {
     "data": {
      "text/plain": [
       "{'gg': 0.007166666666666667,\n",
       " 'gr': 0.48783333333333334,\n",
       " 'rg': 0.49191666666666667,\n",
       " 'rr': 0.013083333333333334}"
      ]
     },
     "execution_count": 37,
     "metadata": {},
     "output_type": "execute_result"
    }
   ],
   "source": [
    "aggregate_counters(task_1_tdvp.result().get_counts())"
   ]
  },
  {
   "cell_type": "code",
   "execution_count": 17,
   "id": "917fec8d-7655-4666-83d4-800c628a3e68",
   "metadata": {
    "tags": []
   },
   "outputs": [
    {
     "name": "stdout",
     "output_type": "stream",
     "text": [
      "CPU times: user 138 ms, sys: 57 μs, total: 138 ms\n",
      "Wall time: 1min 7s\n"
     ]
    }
   ],
   "source": [
    "%%time \n",
    "task_2_tebd = simulator.run(program_2, steps=100, shots=1000, max_bond_dim=16, solver=\"tebd\")"
   ]
  },
  {
   "cell_type": "code",
   "execution_count": 38,
   "id": "bdb1ae4b-f5e9-43c0-9389-7c402f2602fc",
   "metadata": {
    "tags": []
   },
   "outputs": [
    {
     "data": {
      "text/plain": [
       "{'gg': 0.005083333333333333,\n",
       " 'gr': 0.00225,\n",
       " 'rg': 0.0020833333333333333,\n",
       " 'rr': 0.9905833333333334}"
      ]
     },
     "execution_count": 38,
     "metadata": {},
     "output_type": "execute_result"
    }
   ],
   "source": [
    "aggregate_counters(task_2_tebd.result().get_counts())"
   ]
  },
  {
   "cell_type": "code",
   "execution_count": 19,
   "id": "12830c15-3232-41fc-9849-11bc695fe9b7",
   "metadata": {
    "tags": []
   },
   "outputs": [
    {
     "name": "stdout",
     "output_type": "stream",
     "text": [
      "CPU times: user 273 ms, sys: 0 ns, total: 273 ms\n",
      "Wall time: 1min 27s\n"
     ]
    }
   ],
   "source": [
    "%%time \n",
    "task_2_tdvp = simulator.run(program_2, steps=100, shots=1000, max_bond_dim=16, solver=\"tdvp\")"
   ]
  },
  {
   "cell_type": "code",
   "execution_count": 39,
   "id": "409e6488-d215-410b-a183-acd73bdae096",
   "metadata": {
    "tags": []
   },
   "outputs": [
    {
     "data": {
      "text/plain": [
       "{'gg': 0.00375,\n",
       " 'gr': 0.0019166666666666666,\n",
       " 'rg': 0.0010833333333333333,\n",
       " 'rr': 0.99325}"
      ]
     },
     "execution_count": 39,
     "metadata": {},
     "output_type": "execute_result"
    }
   ],
   "source": [
    "aggregate_counters(task_2_tdvp.result().get_counts())"
   ]
  },
  {
   "cell_type": "markdown",
   "id": "a5749938-fd93-4126-be3b-f9ae9cbaaff5",
   "metadata": {},
   "source": [
    "# Device emulation"
   ]
  },
  {
   "cell_type": "code",
   "execution_count": 7,
   "id": "b478c75f-0362-4a98-8e8f-c4c674e3018a",
   "metadata": {
    "tags": []
   },
   "outputs": [
    {
     "name": "stdout",
     "output_type": "stream",
     "text": [
      "i am at braket_ahs_tn_noisy\n"
     ]
    },
    {
     "ename": "Exception",
     "evalue": "1 validation error for DeviceDrivingFieldValidator\n__root__\n  time point 2 (1.405975613341255E-7) of amplitude time_series is defined with too many digits; it must be an integer multiple of 1E-9 (type=value_error) (Aquila)",
     "output_type": "error",
     "traceback": [
      "\u001b[0;31m---------------------------------------------------------------------------\u001b[0m",
      "\u001b[0;31mValidationError\u001b[0m                           Traceback (most recent call last)",
      "File \u001b[0;32m~/anaconda3/envs/JupyterSystemEnv/lib/python3.10/site-packages/braket/emulation/emulator.py:188\u001b[0m, in \u001b[0;36mEmulator.validate\u001b[0;34m(self, task_specification)\u001b[0m\n\u001b[1;32m    187\u001b[0m \u001b[38;5;28;01mtry\u001b[39;00m:\n\u001b[0;32m--> 188\u001b[0m     \u001b[38;5;28;43msuper\u001b[39;49m\u001b[43m(\u001b[49m\u001b[43m)\u001b[49m\u001b[38;5;241;43m.\u001b[39;49m\u001b[43mvalidate\u001b[49m\u001b[43m(\u001b[49m\u001b[43mtask_specification\u001b[49m\u001b[43m)\u001b[49m\n\u001b[1;32m    189\u001b[0m \u001b[38;5;28;01mexcept\u001b[39;00m \u001b[38;5;167;01mException\u001b[39;00m \u001b[38;5;28;01mas\u001b[39;00m e:\n",
      "File \u001b[0;32m~/anaconda3/envs/JupyterSystemEnv/lib/python3.10/site-packages/braket/emulation/base_emulator.py:40\u001b[0m, in \u001b[0;36mBaseEmulator.validate\u001b[0;34m(self, task_specification)\u001b[0m\n\u001b[1;32m     39\u001b[0m \u001b[38;5;28;01mif\u001b[39;00m \u001b[38;5;28misinstance\u001b[39m(emulator_pass, ValidationPass):\n\u001b[0;32m---> 40\u001b[0m     \u001b[43memulator_pass\u001b[49m\u001b[43m(\u001b[49m\u001b[43mtask_specification\u001b[49m\u001b[43m)\u001b[49m\n",
      "File \u001b[0;32m~/anaconda3/envs/JupyterSystemEnv/lib/python3.10/site-packages/braket/emulation/emulation_passes/emulation_pass.py:25\u001b[0m, in \u001b[0;36mEmulationPass.__call__\u001b[0;34m(self, program)\u001b[0m\n\u001b[1;32m     24\u001b[0m \u001b[38;5;28;01mdef\u001b[39;00m \u001b[38;5;21m__call__\u001b[39m(\u001b[38;5;28mself\u001b[39m, program: ProgramType) \u001b[38;5;241m-\u001b[39m\u001b[38;5;241m>\u001b[39m ProgramType:\n\u001b[0;32m---> 25\u001b[0m     \u001b[38;5;28;01mreturn\u001b[39;00m \u001b[38;5;28;43mself\u001b[39;49m\u001b[38;5;241;43m.\u001b[39;49m\u001b[43mrun\u001b[49m\u001b[43m(\u001b[49m\u001b[43mprogram\u001b[49m\u001b[43m)\u001b[49m\n",
      "File \u001b[0;32m~/anaconda3/envs/JupyterSystemEnv/lib/python3.10/site-packages/braket/emulation/emulation_passes/validation_pass.py:31\u001b[0m, in \u001b[0;36mValidationPass.run\u001b[0;34m(self, program)\u001b[0m\n\u001b[1;32m     22\u001b[0m \u001b[38;5;250m\u001b[39m\u001b[38;5;124;03m\"\"\"\u001b[39;00m\n\u001b[1;32m     23\u001b[0m \u001b[38;5;124;03mValidate the input program and return the program, unmodified.\u001b[39;00m\n\u001b[1;32m     24\u001b[0m \n\u001b[0;32m   (...)\u001b[0m\n\u001b[1;32m     29\u001b[0m \u001b[38;5;124;03m    ProgramType: The unmodified progam passed in as input.\u001b[39;00m\n\u001b[1;32m     30\u001b[0m \u001b[38;5;124;03m\"\"\"\u001b[39;00m\n\u001b[0;32m---> 31\u001b[0m \u001b[38;5;28;43mself\u001b[39;49m\u001b[38;5;241;43m.\u001b[39;49m\u001b[43mvalidate\u001b[49m\u001b[43m(\u001b[49m\u001b[43mprogram\u001b[49m\u001b[43m)\u001b[49m\n\u001b[1;32m     32\u001b[0m \u001b[38;5;28;01mreturn\u001b[39;00m program\n",
      "File \u001b[0;32m~/anaconda3/envs/JupyterSystemEnv/lib/python3.10/site-packages/braket/emulation/emulation_passes/ahs_passes/ahs_validator.py:27\u001b[0m, in \u001b[0;36mAhsValidator.validate\u001b[0;34m(self, program)\u001b[0m\n\u001b[1;32m     26\u001b[0m     program \u001b[38;5;241m=\u001b[39m program\u001b[38;5;241m.\u001b[39mto_ir()\n\u001b[0;32m---> 27\u001b[0m \u001b[43mvalidate_program\u001b[49m\u001b[43m(\u001b[49m\u001b[43mprogram\u001b[49m\u001b[43m,\u001b[49m\u001b[43m \u001b[49m\u001b[38;5;28;43mself\u001b[39;49m\u001b[38;5;241;43m.\u001b[39;49m\u001b[43m_capabilities\u001b[49m\u001b[43m)\u001b[49m\n",
      "File \u001b[0;32m~/anaconda3/envs/JupyterSystemEnv/lib/python3.10/site-packages/braket/emulation/emulation_passes/ahs_passes/device_ir_validator.py:51\u001b[0m, in \u001b[0;36mvalidate_program\u001b[0;34m(program, device_capabilities)\u001b[0m\n\u001b[1;32m     50\u001b[0m \u001b[38;5;28;01mfor\u001b[39;00m d_fields \u001b[38;5;129;01min\u001b[39;00m program\u001b[38;5;241m.\u001b[39mhamiltonian\u001b[38;5;241m.\u001b[39mdrivingFields:\n\u001b[0;32m---> 51\u001b[0m     \u001b[43mDeviceDrivingFieldValidator\u001b[49m\u001b[43m(\u001b[49m\u001b[43mcapabilities\u001b[49m\u001b[38;5;241;43m=\u001b[39;49m\u001b[43mdevice_capabilities\u001b[49m\u001b[43m,\u001b[49m\u001b[43m \u001b[49m\u001b[38;5;241;43m*\u001b[39;49m\u001b[38;5;241;43m*\u001b[39;49m\u001b[43md_fields\u001b[49m\u001b[38;5;241;43m.\u001b[39;49m\u001b[43mdict\u001b[49m\u001b[43m(\u001b[49m\u001b[43m)\u001b[49m\u001b[43m)\u001b[49m\n\u001b[1;32m     52\u001b[0m     amplitude \u001b[38;5;241m=\u001b[39m d_fields\u001b[38;5;241m.\u001b[39mamplitude\n",
      "File \u001b[0;32m~/anaconda3/envs/JupyterSystemEnv/lib/python3.10/site-packages/pydantic/v1/main.py:341\u001b[0m, in \u001b[0;36mBaseModel.__init__\u001b[0;34m(__pydantic_self__, **data)\u001b[0m\n\u001b[1;32m    340\u001b[0m \u001b[38;5;28;01mif\u001b[39;00m validation_error:\n\u001b[0;32m--> 341\u001b[0m     \u001b[38;5;28;01mraise\u001b[39;00m validation_error\n\u001b[1;32m    342\u001b[0m \u001b[38;5;28;01mtry\u001b[39;00m:\n",
      "\u001b[0;31mValidationError\u001b[0m: 1 validation error for DeviceDrivingFieldValidator\n__root__\n  time point 2 (1.405975613341255E-7) of amplitude time_series is defined with too many digits; it must be an integer multiple of 1E-9 (type=value_error)",
      "\nThe above exception was the direct cause of the following exception:\n",
      "\u001b[0;31mException\u001b[0m                                 Traceback (most recent call last)",
      "Cell \u001b[0;32mIn[7], line 1\u001b[0m\n\u001b[0;32m----> 1\u001b[0m task_1_emu \u001b[38;5;241m=\u001b[39m \u001b[43mqpu\u001b[49m\u001b[38;5;241;43m.\u001b[39;49m\u001b[43mvalidate\u001b[49m\u001b[43m(\u001b[49m\u001b[43mprogram_1\u001b[49m\u001b[43m)\u001b[49m\n",
      "File \u001b[0;32m~/anaconda3/envs/JupyterSystemEnv/lib/python3.10/site-packages/braket/aws/aws_device.py:953\u001b[0m, in \u001b[0;36mAwsDevice.validate\u001b[0;34m(self, task_specification)\u001b[0m\n\u001b[1;32m    939\u001b[0m \u001b[38;5;28;01mdef\u001b[39;00m \u001b[38;5;21mvalidate\u001b[39m(\n\u001b[1;32m    940\u001b[0m     \u001b[38;5;28mself\u001b[39m,\n\u001b[1;32m    941\u001b[0m     task_specification: ProgramType,\n\u001b[1;32m    942\u001b[0m ) \u001b[38;5;241m-\u001b[39m\u001b[38;5;241m>\u001b[39m \u001b[38;5;28;01mNone\u001b[39;00m:\n\u001b[1;32m    943\u001b[0m \u001b[38;5;250m    \u001b[39m\u001b[38;5;124;03m\"\"\"\u001b[39;00m\n\u001b[1;32m    944\u001b[0m \u001b[38;5;124;03m    Runs all non-modifying emulator passes on the input program and raises an\u001b[39;00m\n\u001b[1;32m    945\u001b[0m \u001b[38;5;124;03m    error if any device-specific criteria are not met by the program. If the\u001b[39;00m\n\u001b[0;32m   (...)\u001b[0m\n\u001b[1;32m    951\u001b[0m \n\u001b[1;32m    952\u001b[0m \u001b[38;5;124;03m    \"\"\"\u001b[39;00m\n\u001b[0;32m--> 953\u001b[0m     \u001b[38;5;28;43mself\u001b[39;49m\u001b[38;5;241;43m.\u001b[39;49m\u001b[43memulator\u001b[49m\u001b[38;5;241;43m.\u001b[39;49m\u001b[43mvalidate\u001b[49m\u001b[43m(\u001b[49m\u001b[43mtask_specification\u001b[49m\u001b[43m)\u001b[49m\n\u001b[1;32m    954\u001b[0m     \u001b[38;5;28;01mreturn\u001b[39;00m\n",
      "File \u001b[0;32m~/anaconda3/envs/JupyterSystemEnv/lib/python3.10/site-packages/braket/emulation/emulator.py:190\u001b[0m, in \u001b[0;36mEmulator.validate\u001b[0;34m(self, task_specification)\u001b[0m\n\u001b[1;32m    188\u001b[0m     \u001b[38;5;28msuper\u001b[39m()\u001b[38;5;241m.\u001b[39mvalidate(task_specification)\n\u001b[1;32m    189\u001b[0m \u001b[38;5;28;01mexcept\u001b[39;00m \u001b[38;5;167;01mException\u001b[39;00m \u001b[38;5;28;01mas\u001b[39;00m e:\n\u001b[0;32m--> 190\u001b[0m     \u001b[38;5;28;43mself\u001b[39;49m\u001b[38;5;241;43m.\u001b[39;49m\u001b[43m_raise_exception\u001b[49m\u001b[43m(\u001b[49m\u001b[43me\u001b[49m\u001b[43m)\u001b[49m\n",
      "File \u001b[0;32m~/anaconda3/envs/JupyterSystemEnv/lib/python3.10/site-packages/braket/emulation/emulator.py:200\u001b[0m, in \u001b[0;36mEmulator._raise_exception\u001b[0;34m(self, exception)\u001b[0m\n\u001b[1;32m    192\u001b[0m \u001b[38;5;28;01mdef\u001b[39;00m \u001b[38;5;21m_raise_exception\u001b[39m(\u001b[38;5;28mself\u001b[39m, exception: \u001b[38;5;167;01mException\u001b[39;00m) \u001b[38;5;241m-\u001b[39m\u001b[38;5;241m>\u001b[39m \u001b[38;5;28;01mNone\u001b[39;00m:\n\u001b[1;32m    193\u001b[0m \u001b[38;5;250m    \u001b[39m\u001b[38;5;124;03m\"\"\"\u001b[39;00m\n\u001b[1;32m    194\u001b[0m \u001b[38;5;124;03m    Wrapper for exceptions, appends the emulator's name to the exception\u001b[39;00m\n\u001b[1;32m    195\u001b[0m \u001b[38;5;124;03m    note.\u001b[39;00m\n\u001b[0;32m   (...)\u001b[0m\n\u001b[1;32m    198\u001b[0m \u001b[38;5;124;03m        exception (Exception): The exception to modify and raise.\u001b[39;00m\n\u001b[1;32m    199\u001b[0m \u001b[38;5;124;03m    \"\"\"\u001b[39;00m\n\u001b[0;32m--> 200\u001b[0m     \u001b[38;5;28;01mraise\u001b[39;00m \u001b[38;5;167;01mException\u001b[39;00m(\u001b[38;5;28mstr\u001b[39m(exception) \u001b[38;5;241m+\u001b[39m \u001b[38;5;124mf\u001b[39m\u001b[38;5;124m\"\u001b[39m\u001b[38;5;124m (\u001b[39m\u001b[38;5;132;01m{\u001b[39;00m\u001b[38;5;28mself\u001b[39m\u001b[38;5;241m.\u001b[39m_name\u001b[38;5;132;01m}\u001b[39;00m\u001b[38;5;124m)\u001b[39m\u001b[38;5;124m\"\u001b[39m) \u001b[38;5;28;01mfrom\u001b[39;00m \u001b[38;5;21;01mexception\u001b[39;00m\n",
      "\u001b[0;31mException\u001b[0m: 1 validation error for DeviceDrivingFieldValidator\n__root__\n  time point 2 (1.405975613341255E-7) of amplitude time_series is defined with too many digits; it must be an integer multiple of 1E-9 (type=value_error) (Aquila)"
     ]
    }
   ],
   "source": [
    "task_1_emu = qpu.validate(program_1)"
   ]
  },
  {
   "cell_type": "code",
   "execution_count": 8,
   "id": "19cc1fbe-0996-4fd3-9733-0cb3e608fbb1",
   "metadata": {
    "tags": []
   },
   "outputs": [],
   "source": [
    "task_1_emu = qpu.validate(program_1.discretize(qpu))"
   ]
  },
  {
   "cell_type": "code",
   "execution_count": 9,
   "id": "bbc115e3-c6c7-4e90-8f51-d1b405252a7c",
   "metadata": {
    "tags": []
   },
   "outputs": [
    {
     "data": {
      "text/plain": [
       "[[Decimal('0'), Decimal('0')],\n",
       " [Decimal('0'), Decimal('0.0000067')],\n",
       " [Decimal('0'), Decimal('0.000024')],\n",
       " [Decimal('0'), Decimal('0.0000307')],\n",
       " [Decimal('0'), Decimal('0.000048')],\n",
       " [Decimal('0'), Decimal('0.0000547')],\n",
       " [Decimal('0.000024'), Decimal('0.0')],\n",
       " [Decimal('0.000024'), Decimal('0.0000067')],\n",
       " [Decimal('0.000024'), Decimal('0.000024')],\n",
       " [Decimal('0.000024'), Decimal('0.0000307')],\n",
       " [Decimal('0.000024'), Decimal('0.000048')],\n",
       " [Decimal('0.000024'), Decimal('0.0000547')],\n",
       " [Decimal('0.000048'), Decimal('0.0')],\n",
       " [Decimal('0.000048'), Decimal('0.0000067')],\n",
       " [Decimal('0.000048'), Decimal('0.000024')],\n",
       " [Decimal('0.000048'), Decimal('0.0000307')],\n",
       " [Decimal('0.000048'), Decimal('0.000048')],\n",
       " [Decimal('0.000048'), Decimal('0.0000547')],\n",
       " [Decimal('0.000072'), Decimal('0.0')],\n",
       " [Decimal('0.000072'), Decimal('0.0000067')],\n",
       " [Decimal('0.000072'), Decimal('0.000024')],\n",
       " [Decimal('0.000072'), Decimal('0.0000307')],\n",
       " [Decimal('0.000072'), Decimal('0.000048')],\n",
       " [Decimal('0.000072'), Decimal('0.0000547')]]"
      ]
     },
     "execution_count": 9,
     "metadata": {},
     "output_type": "execute_result"
    }
   ],
   "source": [
    "program_1.to_ir().setup.ahs_register.sites"
   ]
  },
  {
   "cell_type": "code",
   "execution_count": 10,
   "id": "faff6d71-efeb-4f8e-8b56-30cea00ea2de",
   "metadata": {
    "tags": []
   },
   "outputs": [
    {
     "data": {
      "text/plain": [
       "[[Decimal('-1.0083082350828086E-8'), Decimal('7.766102118417925E-8')],\n",
       " [Decimal('-6.138617540293376E-8'), Decimal('0.000006787448923108186')],\n",
       " [Decimal('-1.9231883626334477E-7'), Decimal('0.000024170306272017107')],\n",
       " [Decimal('-1.740106645080155E-7'), Decimal('0.00003067735719539814')],\n",
       " [Decimal('6.053593170967198E-8'), Decimal('0.00004784819983757653')],\n",
       " [Decimal('1.781273553398041E-8'), Decimal('0.0000548142858704827')],\n",
       " [Decimal('0.000024025561505770348'), Decimal('1.3508650723305533E-7')],\n",
       " [Decimal('0.000024158181134493507'), Decimal('0.000006549631767695919')],\n",
       " [Decimal('0.000024073290734288604'), Decimal('0.00002411343342363793')],\n",
       " [Decimal('0.00002401728104574977'), Decimal('0.00003060937665590321')],\n",
       " [Decimal('0.000024000421502763266'), Decimal('0.000048040681359819186')],\n",
       " [Decimal('0.000023906022762193705'), Decimal('0.00005470171353962879')],\n",
       " [Decimal('0.000047971632342642975'), Decimal('6.32701392107153E-8')],\n",
       " [Decimal('0.00004794255522692256'), Decimal('0.00000679741744499224')],\n",
       " [Decimal('0.000048003217852832034'), Decimal('0.000023991258425004884')],\n",
       " [Decimal('0.00004802401425578408'), Decimal('0.00003067965340482584')],\n",
       " [Decimal('0.000048020309166027026'), Decimal('0.00004792046867926273')],\n",
       " [Decimal('0.0000482653938735021'), Decimal('0.00005462579140163979')],\n",
       " [Decimal('0.00007202299699861773'), Decimal('-1.6417900541102077E-8')],\n",
       " [Decimal('0.00007198913286933304'), Decimal('0.0000067205440842084')],\n",
       " [Decimal('0.00007192093975405776'), Decimal('0.00002407946687780469')],\n",
       " [Decimal('0.00007191313942305254'), Decimal('0.00003061755593724853')],\n",
       " [Decimal('0.00007185663303797775'), Decimal('0.00004790223452923669')],\n",
       " [Decimal('0.00007202811375671991'), Decimal('0.00005459066678318584')]]"
      ]
     },
     "execution_count": 10,
     "metadata": {},
     "output_type": "execute_result"
    }
   ],
   "source": [
    "program_1_noisy = qpu.run_passes(program_1.discretize(qpu))\n",
    "program_1_noisy.to_ir().setup.ahs_register.sites"
   ]
  },
  {
   "cell_type": "code",
   "execution_count": 11,
   "id": "78c4201f-0403-41ca-b204-137ebfe33d40",
   "metadata": {
    "tags": []
   },
   "outputs": [
    {
     "data": {
      "text/plain": [
       "PhysicalField(time_series=TimeSeries(values=[Decimal('0'), Decimal('15800000.0'), Decimal('15800000.0'), Decimal('0')], times=[Decimal('0'), Decimal('5E-8'), Decimal('1.405975613341255E-7'), Decimal('1.905975613341255E-7')]), pattern='uniform')"
      ]
     },
     "execution_count": 11,
     "metadata": {},
     "output_type": "execute_result"
    }
   ],
   "source": [
    "program_1.to_ir().hamiltonian.drivingFields[0].amplitude"
   ]
  },
  {
   "cell_type": "code",
   "execution_count": 12,
   "id": "1e869e01-256a-4cfd-bb39-b90503ce8fbd",
   "metadata": {
    "tags": []
   },
   "outputs": [
    {
     "data": {
      "text/plain": [
       "PhysicalField(time_series=TimeSeries(values=[Decimal('0'), Decimal('484989.3404126533'), Decimal('993976.472194469'), Decimal('1402666.0458092014'), Decimal('1957604.9353365335'), Decimal('2415072.3696031384'), Decimal('2950609.6016971013'), Decimal('3426131.996362271'), Decimal('4076349.9251259575'), Decimal('4532518.5206167'), Decimal('5396575.3299689535'), Decimal('5688816.901321964'), Decimal('6356278.224566445'), Decimal('7106655.059402441'), Decimal('7446515.028273019'), Decimal('8052551.534021197'), Decimal('8738169.136384621'), Decimal('9707239.814110754'), Decimal('10186617.786899062'), Decimal('10898508.10086247'), Decimal('11506267.011217777'), Decimal('12444577.476549407'), Decimal('13114269.269833466'), Decimal('13782664.30347584'), Decimal('14476100.786683654'), Decimal('15286341.025501173'), Decimal('16491148.967812566'), Decimal('15629480.357552174'), Decimal('15539344.771750063'), Decimal('16108678.62560497'), Decimal('15354757.84626365'), Decimal('15680975.131761186'), Decimal('16007596.092994485'), Decimal('15977323.59169568'), Decimal('15750320.73739541'), Decimal('15882096.736161055'), Decimal('15616260.96965745'), Decimal('16173668.47986662'), Decimal('15783741.448634584'), Decimal('15828593.50253687'), Decimal('15707428.10014666'), Decimal('15668168.947245864'), Decimal('15542971.993074862'), Decimal('15818493.539432585'), Decimal('15629409.513595382'), Decimal('15479936.399622675'), Decimal('15671935.299843503'), Decimal('16183037.321887536'), Decimal('16384726.31401997'), Decimal('15846831.036584456'), Decimal('15469989.904944409'), Decimal('15143968.045272365'), Decimal('16014439.521787876'), Decimal('15822971.776346637'), Decimal('15271463.170996143'), Decimal('15962207.203495936'), Decimal('15817011.708385604'), Decimal('16229512.43269434'), Decimal('16070023.55960457'), Decimal('15272985.29140173'), Decimal('16266362.991637468'), Decimal('16211158.570958028'), Decimal('16051117.104148926'), Decimal('16051296.31871854'), Decimal('15999352.804075705'), Decimal('15955366.221407305'), Decimal('15080004.948449325'), Decimal('15491961.026260354'), Decimal('15706423.62415743'), Decimal('16270605.05348128'), Decimal('15844112.148633298'), Decimal('15748647.831232509'), Decimal('15478473.46403249'), Decimal('16498316.372788046'), Decimal('15188921.739295831'), Decimal('14470797.025575953'), Decimal('14202406.403904429'), Decimal('12817831.890337188'), Decimal('12532013.15457438'), Decimal('11882315.125336872'), Decimal('10781221.670754278'), Decimal('9974027.856773695'), Decimal('9395721.403480405'), Decimal('8673377.559507813'), Decimal('8019462.879987551'), Decimal('7658715.798994444'), Decimal('6990798.020244907'), Decimal('6443556.143257712'), Decimal('5838490.131826996'), Decimal('5330453.197844211'), Decimal('4730828.9161177715'), Decimal('4077078.4785172497'), Decimal('3523962.4914072664'), Decimal('3003032.9948422685'), Decimal('2407767.28287574'), Decimal('1978833.819280878'), Decimal('1453432.147168848'), Decimal('951597.8816731847'), Decimal('470506.6349671267'), Decimal('0')], times=[Decimal('0.0'), Decimal('1.9292929292929294E-9'), Decimal('3.858585858585859E-9'), Decimal('5.787878787878788E-9'), Decimal('7.717171717171718E-9'), Decimal('9.646464646464647E-9'), Decimal('1.1575757575757576E-8'), Decimal('1.3505050505050505E-8'), Decimal('1.5434343434343435E-8'), Decimal('1.7363636363636365E-8'), Decimal('1.9292929292929295E-8'), Decimal('2.1222222222222225E-8'), Decimal('2.315151515151515E-8'), Decimal('2.508080808080808E-8'), Decimal('2.701010101010101E-8'), Decimal('2.893939393939394E-8'), Decimal('3.086868686868687E-8'), Decimal('3.27979797979798E-8'), Decimal('3.472727272727273E-8'), Decimal('3.665656565656566E-8'), Decimal('3.858585858585859E-8'), Decimal('4.0515151515151516E-8'), Decimal('4.244444444444445E-8'), Decimal('4.4373737373737376E-8'), Decimal('4.63030303030303E-8'), Decimal('4.8232323232323236E-8'), Decimal('5.016161616161616E-8'), Decimal('5.2090909090909095E-8'), Decimal('5.402020202020202E-8'), Decimal('5.5949494949494955E-8'), Decimal('5.787878787878788E-8'), Decimal('5.980808080808081E-8'), Decimal('6.173737373737374E-8'), Decimal('6.366666666666667E-8'), Decimal('6.55959595959596E-8'), Decimal('6.752525252525253E-8'), Decimal('6.945454545454546E-8'), Decimal('7.138383838383839E-8'), Decimal('7.331313131313131E-8'), Decimal('7.524242424242425E-8'), Decimal('7.717171717171718E-8'), Decimal('7.91010101010101E-8'), Decimal('8.103030303030303E-8'), Decimal('8.295959595959596E-8'), Decimal('8.48888888888889E-8'), Decimal('8.681818181818183E-8'), Decimal('8.874747474747475E-8'), Decimal('9.067676767676768E-8'), Decimal('9.26060606060606E-8'), Decimal('9.453535353535354E-8'), Decimal('9.646464646464647E-8'), Decimal('9.83939393939394E-8'), Decimal('1.0032323232323232E-7'), Decimal('1.0225252525252526E-7'), Decimal('1.0418181818181819E-7'), Decimal('1.0611111111111112E-7'), Decimal('1.0804040404040404E-7'), Decimal('1.0996969696969697E-7'), Decimal('1.1189898989898991E-7'), Decimal('1.1382828282828284E-7'), Decimal('1.1575757575757576E-7'), Decimal('1.1768686868686869E-7'), Decimal('1.1961616161616163E-7'), Decimal('1.2154545454545454E-7'), Decimal('1.2347474747474748E-7'), Decimal('1.2540404040404042E-7'), Decimal('1.2733333333333334E-7'), Decimal('1.2926262626262628E-7'), Decimal('1.311919191919192E-7'), Decimal('1.3312121212121213E-7'), Decimal('1.3505050505050507E-7'), Decimal('1.3697979797979798E-7'), Decimal('1.3890909090909092E-7'), Decimal('1.4083838383838383E-7'), Decimal('1.4276767676767677E-7'), Decimal('1.4469696969696971E-7'), Decimal('1.4662626262626263E-7'), Decimal('1.4855555555555557E-7'), Decimal('1.504848484848485E-7'), Decimal('1.5241414141414142E-7'), Decimal('1.5434343434343436E-7'), Decimal('1.5627272727272727E-7'), Decimal('1.582020202020202E-7'), Decimal('1.6013131313131315E-7'), Decimal('1.6206060606060607E-7'), Decimal('1.63989898989899E-7'), Decimal('1.6591919191919192E-7'), Decimal('1.6784848484848486E-7'), Decimal('1.697777777777778E-7'), Decimal('1.717070707070707E-7'), Decimal('1.7363636363636365E-7'), Decimal('1.7556565656565656E-7'), Decimal('1.774949494949495E-7'), Decimal('1.7942424242424244E-7'), Decimal('1.8135353535353536E-7'), Decimal('1.832828282828283E-7'), Decimal('1.852121212121212E-7'), Decimal('1.8714141414141415E-7'), Decimal('1.890707070707071E-7'), Decimal('1.91E-7')]), pattern='uniform')"
      ]
     },
     "execution_count": 12,
     "metadata": {},
     "output_type": "execute_result"
    }
   ],
   "source": [
    "program_1_noisy.to_ir().hamiltonian.drivingFields[0].amplitude"
   ]
  },
  {
   "cell_type": "code",
   "execution_count": 25,
   "id": "abfd9942-fea6-4128-a8c4-f3fe49f7c386",
   "metadata": {
    "tags": []
   },
   "outputs": [
    {
     "name": "stdout",
     "output_type": "stream",
     "text": [
      "CPU times: user 246 ms, sys: 437 ms, total: 683 ms\n",
      "Wall time: 3min 19s\n"
     ]
    }
   ],
   "source": [
    "%%time\n",
    "\n",
    "task_1_emu = qpu.emulate(program_1.discretize(qpu), shots=100) # This uses tebd for now"
   ]
  },
  {
   "cell_type": "code",
   "execution_count": 40,
   "id": "4a4b59e7-30d3-4dc2-a4d9-12046b6bdc72",
   "metadata": {
    "tags": []
   },
   "outputs": [
    {
     "data": {
      "text/plain": [
       "{'gg': 0.10702341137123746,\n",
       " 'gr': 0.411371237458194,\n",
       " 'rg': 0.42725752508361203,\n",
       " 'rr': 0.05434782608695652}"
      ]
     },
     "execution_count": 40,
     "metadata": {},
     "output_type": "execute_result"
    }
   ],
   "source": [
    "aggregate_counters(task_1_emu.result().get_counts())"
   ]
  },
  {
   "cell_type": "code",
   "execution_count": 26,
   "id": "25ceefd4-6340-4b29-bd05-3197c2d7a10f",
   "metadata": {
    "tags": []
   },
   "outputs": [],
   "source": [
    "task_1_qpu = qpu.run(program_1.discretize(qpu), shots=100)\n",
    "task_1_qpu.metadata()['quantumTaskArn']\n",
    "# 'arn:aws:braket:us-east-1:545821822555:quantum-task/09be3e38-258a-4de7-ad81-1e79243da90b'\n"
   ]
  },
  {
   "cell_type": "code",
   "execution_count": 42,
   "id": "5345ce17-eb78-4045-9197-3db56dc5a4c2",
   "metadata": {
    "tags": []
   },
   "outputs": [
    {
     "data": {
      "text/plain": [
       "{'gg': 0.07796610169491526,\n",
       " 'gr': 0.4228813559322034,\n",
       " 'rg': 0.46864406779661016,\n",
       " 'rr': 0.030508474576271188}"
      ]
     },
     "execution_count": 42,
     "metadata": {},
     "output_type": "execute_result"
    }
   ],
   "source": [
    "aggregate_counters(task_1_qpu.result().get_counts())"
   ]
  },
  {
   "cell_type": "code",
   "execution_count": 41,
   "id": "6347a352-160c-49b1-ad35-93fc9773992e",
   "metadata": {
    "tags": []
   },
   "outputs": [
    {
     "name": "stdout",
     "output_type": "stream",
     "text": [
      "CPU times: user 238 ms, sys: 456 ms, total: 694 ms\n",
      "Wall time: 3min 19s\n"
     ]
    }
   ],
   "source": [
    "%%time\n",
    "\n",
    "task_2_emu = qpu.emulate(program_2.discretize(qpu), shots=100) # This uses tebd for now"
   ]
  },
  {
   "cell_type": "code",
   "execution_count": 43,
   "id": "4d772326-f2c4-4408-9480-7b04a768215c",
   "metadata": {
    "tags": []
   },
   "outputs": [
    {
     "data": {
      "text/plain": [
       "{'gg': 0.03177257525083612,\n",
       " 'gr': 0.1262541806020067,\n",
       " 'rg': 0.13712374581939799,\n",
       " 'rr': 0.7048494983277592}"
      ]
     },
     "execution_count": 43,
     "metadata": {},
     "output_type": "execute_result"
    }
   ],
   "source": [
    "aggregate_counters(task_2_emu.result().get_counts())"
   ]
  },
  {
   "cell_type": "code",
   "execution_count": 44,
   "id": "e8d4ff04-fa44-4959-b4b2-05e03bc92c05",
   "metadata": {
    "tags": []
   },
   "outputs": [],
   "source": [
    "task_2_qpu = qpu.run(program_2.discretize(qpu), shots=100)\n",
    "task_2_qpu.metadata()['quantumTaskArn']\n",
    "# 'arn:aws:braket:us-east-1:545821822555:quantum-task/038d3559-6fe1-4b75-891a-294f350e6f4d'\n"
   ]
  },
  {
   "cell_type": "code",
   "execution_count": 46,
   "id": "4c218cf2-8196-4f41-ac34-2bc4a57c7ef9",
   "metadata": {
    "tags": []
   },
   "outputs": [
    {
     "data": {
      "text/plain": [
       "{'gg': 0.08171861836562763,\n",
       " 'gr': 0.11710193765796124,\n",
       " 'rg': 0.10614995787700084,\n",
       " 'rr': 0.6950294860994103}"
      ]
     },
     "execution_count": 46,
     "metadata": {},
     "output_type": "execute_result"
    }
   ],
   "source": [
    "aggregate_counters(task_2_qpu.result().get_counts())"
   ]
  },
  {
   "cell_type": "code",
   "execution_count": null,
   "id": "7c17978e-f468-411d-b9f0-35d831f44801",
   "metadata": {},
   "outputs": [],
   "source": []
  }
 ],
 "metadata": {
  "kernelspec": {
   "display_name": "Python 3",
   "language": "python",
   "name": "python3"
  },
  "language_info": {
   "codemirror_mode": {
    "name": "ipython",
    "version": 3
   },
   "file_extension": ".py",
   "mimetype": "text/x-python",
   "name": "python",
   "nbconvert_exporter": "python",
   "pygments_lexer": "ipython3",
   "version": "3.10.8"
  }
 },
 "nbformat": 4,
 "nbformat_minor": 5
}
